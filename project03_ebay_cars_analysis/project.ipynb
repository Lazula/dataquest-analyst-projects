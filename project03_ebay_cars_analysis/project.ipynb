{
 "cells": [
  {
   "cell_type": "markdown",
   "id": "fb29d5ba",
   "metadata": {},
   "source": [
    "# German E-bay Car Listings Analysis\n",
    "\n",
    "This project will clean and translate a dataset of German E-bay car listings, then draw conclusions about how the average price, mileage, and value loss from damage vary by brand.\n",
    "\n",
    "The dataset and documentation can be found [here](https://data.world/data-society/used-cars-data)."
   ]
  },
  {
   "cell_type": "markdown",
   "id": "1839d1c7",
   "metadata": {},
   "source": [
    "## Reading the dataset file"
   ]
  },
  {
   "cell_type": "code",
   "execution_count": 1,
   "id": "5aa6ceb9",
   "metadata": {},
   "outputs": [],
   "source": [
    "import pandas as pd\n",
    "import numpy as np\n",
    "\n",
    "autos = pd.read_csv(\"datasets/autos.csv\", encoding=\"Latin-1\")"
   ]
  },
  {
   "cell_type": "markdown",
   "id": "82465983",
   "metadata": {},
   "source": [
    "### Initial observations"
   ]
  },
  {
   "cell_type": "code",
   "execution_count": 2,
   "id": "b147935a",
   "metadata": {
    "scrolled": true
   },
   "outputs": [
    {
     "data": {
      "text/html": [
       "<div>\n",
       "<style scoped>\n",
       "    .dataframe tbody tr th:only-of-type {\n",
       "        vertical-align: middle;\n",
       "    }\n",
       "\n",
       "    .dataframe tbody tr th {\n",
       "        vertical-align: top;\n",
       "    }\n",
       "\n",
       "    .dataframe thead th {\n",
       "        text-align: right;\n",
       "    }\n",
       "</style>\n",
       "<table border=\"1\" class=\"dataframe\">\n",
       "  <thead>\n",
       "    <tr style=\"text-align: right;\">\n",
       "      <th></th>\n",
       "      <th>dateCrawled</th>\n",
       "      <th>name</th>\n",
       "      <th>seller</th>\n",
       "      <th>offerType</th>\n",
       "      <th>price</th>\n",
       "      <th>abtest</th>\n",
       "      <th>vehicleType</th>\n",
       "      <th>yearOfRegistration</th>\n",
       "      <th>gearbox</th>\n",
       "      <th>powerPS</th>\n",
       "      <th>model</th>\n",
       "      <th>odometer</th>\n",
       "      <th>monthOfRegistration</th>\n",
       "      <th>fuelType</th>\n",
       "      <th>brand</th>\n",
       "      <th>notRepairedDamage</th>\n",
       "      <th>dateCreated</th>\n",
       "      <th>nrOfPictures</th>\n",
       "      <th>postalCode</th>\n",
       "      <th>lastSeen</th>\n",
       "    </tr>\n",
       "  </thead>\n",
       "  <tbody>\n",
       "    <tr>\n",
       "      <th>0</th>\n",
       "      <td>2016-03-26 17:47:46</td>\n",
       "      <td>Peugeot_807_160_NAVTECH_ON_BOARD</td>\n",
       "      <td>privat</td>\n",
       "      <td>Angebot</td>\n",
       "      <td>$5,000</td>\n",
       "      <td>control</td>\n",
       "      <td>bus</td>\n",
       "      <td>2004</td>\n",
       "      <td>manuell</td>\n",
       "      <td>158</td>\n",
       "      <td>andere</td>\n",
       "      <td>150,000km</td>\n",
       "      <td>3</td>\n",
       "      <td>lpg</td>\n",
       "      <td>peugeot</td>\n",
       "      <td>nein</td>\n",
       "      <td>2016-03-26 00:00:00</td>\n",
       "      <td>0</td>\n",
       "      <td>79588</td>\n",
       "      <td>2016-04-06 06:45:54</td>\n",
       "    </tr>\n",
       "    <tr>\n",
       "      <th>1</th>\n",
       "      <td>2016-04-04 13:38:56</td>\n",
       "      <td>BMW_740i_4_4_Liter_HAMANN_UMBAU_Mega_Optik</td>\n",
       "      <td>privat</td>\n",
       "      <td>Angebot</td>\n",
       "      <td>$8,500</td>\n",
       "      <td>control</td>\n",
       "      <td>limousine</td>\n",
       "      <td>1997</td>\n",
       "      <td>automatik</td>\n",
       "      <td>286</td>\n",
       "      <td>7er</td>\n",
       "      <td>150,000km</td>\n",
       "      <td>6</td>\n",
       "      <td>benzin</td>\n",
       "      <td>bmw</td>\n",
       "      <td>nein</td>\n",
       "      <td>2016-04-04 00:00:00</td>\n",
       "      <td>0</td>\n",
       "      <td>71034</td>\n",
       "      <td>2016-04-06 14:45:08</td>\n",
       "    </tr>\n",
       "    <tr>\n",
       "      <th>2</th>\n",
       "      <td>2016-03-26 18:57:24</td>\n",
       "      <td>Volkswagen_Golf_1.6_United</td>\n",
       "      <td>privat</td>\n",
       "      <td>Angebot</td>\n",
       "      <td>$8,990</td>\n",
       "      <td>test</td>\n",
       "      <td>limousine</td>\n",
       "      <td>2009</td>\n",
       "      <td>manuell</td>\n",
       "      <td>102</td>\n",
       "      <td>golf</td>\n",
       "      <td>70,000km</td>\n",
       "      <td>7</td>\n",
       "      <td>benzin</td>\n",
       "      <td>volkswagen</td>\n",
       "      <td>nein</td>\n",
       "      <td>2016-03-26 00:00:00</td>\n",
       "      <td>0</td>\n",
       "      <td>35394</td>\n",
       "      <td>2016-04-06 20:15:37</td>\n",
       "    </tr>\n",
       "    <tr>\n",
       "      <th>3</th>\n",
       "      <td>2016-03-12 16:58:10</td>\n",
       "      <td>Smart_smart_fortwo_coupe_softouch/F1/Klima/Pan...</td>\n",
       "      <td>privat</td>\n",
       "      <td>Angebot</td>\n",
       "      <td>$4,350</td>\n",
       "      <td>control</td>\n",
       "      <td>kleinwagen</td>\n",
       "      <td>2007</td>\n",
       "      <td>automatik</td>\n",
       "      <td>71</td>\n",
       "      <td>fortwo</td>\n",
       "      <td>70,000km</td>\n",
       "      <td>6</td>\n",
       "      <td>benzin</td>\n",
       "      <td>smart</td>\n",
       "      <td>nein</td>\n",
       "      <td>2016-03-12 00:00:00</td>\n",
       "      <td>0</td>\n",
       "      <td>33729</td>\n",
       "      <td>2016-03-15 03:16:28</td>\n",
       "    </tr>\n",
       "    <tr>\n",
       "      <th>4</th>\n",
       "      <td>2016-04-01 14:38:50</td>\n",
       "      <td>Ford_Focus_1_6_Benzin_TÜV_neu_ist_sehr_gepfleg...</td>\n",
       "      <td>privat</td>\n",
       "      <td>Angebot</td>\n",
       "      <td>$1,350</td>\n",
       "      <td>test</td>\n",
       "      <td>kombi</td>\n",
       "      <td>2003</td>\n",
       "      <td>manuell</td>\n",
       "      <td>0</td>\n",
       "      <td>focus</td>\n",
       "      <td>150,000km</td>\n",
       "      <td>7</td>\n",
       "      <td>benzin</td>\n",
       "      <td>ford</td>\n",
       "      <td>nein</td>\n",
       "      <td>2016-04-01 00:00:00</td>\n",
       "      <td>0</td>\n",
       "      <td>39218</td>\n",
       "      <td>2016-04-01 14:38:50</td>\n",
       "    </tr>\n",
       "    <tr>\n",
       "      <th>...</th>\n",
       "      <td>...</td>\n",
       "      <td>...</td>\n",
       "      <td>...</td>\n",
       "      <td>...</td>\n",
       "      <td>...</td>\n",
       "      <td>...</td>\n",
       "      <td>...</td>\n",
       "      <td>...</td>\n",
       "      <td>...</td>\n",
       "      <td>...</td>\n",
       "      <td>...</td>\n",
       "      <td>...</td>\n",
       "      <td>...</td>\n",
       "      <td>...</td>\n",
       "      <td>...</td>\n",
       "      <td>...</td>\n",
       "      <td>...</td>\n",
       "      <td>...</td>\n",
       "      <td>...</td>\n",
       "      <td>...</td>\n",
       "    </tr>\n",
       "    <tr>\n",
       "      <th>49995</th>\n",
       "      <td>2016-03-27 14:38:19</td>\n",
       "      <td>Audi_Q5_3.0_TDI_qu._S_tr.__Navi__Panorama__Xenon</td>\n",
       "      <td>privat</td>\n",
       "      <td>Angebot</td>\n",
       "      <td>$24,900</td>\n",
       "      <td>control</td>\n",
       "      <td>limousine</td>\n",
       "      <td>2011</td>\n",
       "      <td>automatik</td>\n",
       "      <td>239</td>\n",
       "      <td>q5</td>\n",
       "      <td>100,000km</td>\n",
       "      <td>1</td>\n",
       "      <td>diesel</td>\n",
       "      <td>audi</td>\n",
       "      <td>nein</td>\n",
       "      <td>2016-03-27 00:00:00</td>\n",
       "      <td>0</td>\n",
       "      <td>82131</td>\n",
       "      <td>2016-04-01 13:47:40</td>\n",
       "    </tr>\n",
       "    <tr>\n",
       "      <th>49996</th>\n",
       "      <td>2016-03-28 10:50:25</td>\n",
       "      <td>Opel_Astra_F_Cabrio_Bertone_Edition___TÜV_neu+...</td>\n",
       "      <td>privat</td>\n",
       "      <td>Angebot</td>\n",
       "      <td>$1,980</td>\n",
       "      <td>control</td>\n",
       "      <td>cabrio</td>\n",
       "      <td>1996</td>\n",
       "      <td>manuell</td>\n",
       "      <td>75</td>\n",
       "      <td>astra</td>\n",
       "      <td>150,000km</td>\n",
       "      <td>5</td>\n",
       "      <td>benzin</td>\n",
       "      <td>opel</td>\n",
       "      <td>nein</td>\n",
       "      <td>2016-03-28 00:00:00</td>\n",
       "      <td>0</td>\n",
       "      <td>44807</td>\n",
       "      <td>2016-04-02 14:18:02</td>\n",
       "    </tr>\n",
       "    <tr>\n",
       "      <th>49997</th>\n",
       "      <td>2016-04-02 14:44:48</td>\n",
       "      <td>Fiat_500_C_1.2_Dualogic_Lounge</td>\n",
       "      <td>privat</td>\n",
       "      <td>Angebot</td>\n",
       "      <td>$13,200</td>\n",
       "      <td>test</td>\n",
       "      <td>cabrio</td>\n",
       "      <td>2014</td>\n",
       "      <td>automatik</td>\n",
       "      <td>69</td>\n",
       "      <td>500</td>\n",
       "      <td>5,000km</td>\n",
       "      <td>11</td>\n",
       "      <td>benzin</td>\n",
       "      <td>fiat</td>\n",
       "      <td>nein</td>\n",
       "      <td>2016-04-02 00:00:00</td>\n",
       "      <td>0</td>\n",
       "      <td>73430</td>\n",
       "      <td>2016-04-04 11:47:27</td>\n",
       "    </tr>\n",
       "    <tr>\n",
       "      <th>49998</th>\n",
       "      <td>2016-03-08 19:25:42</td>\n",
       "      <td>Audi_A3_2.0_TDI_Sportback_Ambition</td>\n",
       "      <td>privat</td>\n",
       "      <td>Angebot</td>\n",
       "      <td>$22,900</td>\n",
       "      <td>control</td>\n",
       "      <td>kombi</td>\n",
       "      <td>2013</td>\n",
       "      <td>manuell</td>\n",
       "      <td>150</td>\n",
       "      <td>a3</td>\n",
       "      <td>40,000km</td>\n",
       "      <td>11</td>\n",
       "      <td>diesel</td>\n",
       "      <td>audi</td>\n",
       "      <td>nein</td>\n",
       "      <td>2016-03-08 00:00:00</td>\n",
       "      <td>0</td>\n",
       "      <td>35683</td>\n",
       "      <td>2016-04-05 16:45:07</td>\n",
       "    </tr>\n",
       "    <tr>\n",
       "      <th>49999</th>\n",
       "      <td>2016-03-14 00:42:12</td>\n",
       "      <td>Opel_Vectra_1.6_16V</td>\n",
       "      <td>privat</td>\n",
       "      <td>Angebot</td>\n",
       "      <td>$1,250</td>\n",
       "      <td>control</td>\n",
       "      <td>limousine</td>\n",
       "      <td>1996</td>\n",
       "      <td>manuell</td>\n",
       "      <td>101</td>\n",
       "      <td>vectra</td>\n",
       "      <td>150,000km</td>\n",
       "      <td>1</td>\n",
       "      <td>benzin</td>\n",
       "      <td>opel</td>\n",
       "      <td>nein</td>\n",
       "      <td>2016-03-13 00:00:00</td>\n",
       "      <td>0</td>\n",
       "      <td>45897</td>\n",
       "      <td>2016-04-06 21:18:48</td>\n",
       "    </tr>\n",
       "  </tbody>\n",
       "</table>\n",
       "<p>50000 rows × 20 columns</p>\n",
       "</div>"
      ],
      "text/plain": [
       "               dateCrawled                                               name  \\\n",
       "0      2016-03-26 17:47:46                   Peugeot_807_160_NAVTECH_ON_BOARD   \n",
       "1      2016-04-04 13:38:56         BMW_740i_4_4_Liter_HAMANN_UMBAU_Mega_Optik   \n",
       "2      2016-03-26 18:57:24                         Volkswagen_Golf_1.6_United   \n",
       "3      2016-03-12 16:58:10  Smart_smart_fortwo_coupe_softouch/F1/Klima/Pan...   \n",
       "4      2016-04-01 14:38:50  Ford_Focus_1_6_Benzin_TÜV_neu_ist_sehr_gepfleg...   \n",
       "...                    ...                                                ...   \n",
       "49995  2016-03-27 14:38:19   Audi_Q5_3.0_TDI_qu._S_tr.__Navi__Panorama__Xenon   \n",
       "49996  2016-03-28 10:50:25  Opel_Astra_F_Cabrio_Bertone_Edition___TÜV_neu+...   \n",
       "49997  2016-04-02 14:44:48                     Fiat_500_C_1.2_Dualogic_Lounge   \n",
       "49998  2016-03-08 19:25:42                 Audi_A3_2.0_TDI_Sportback_Ambition   \n",
       "49999  2016-03-14 00:42:12                                Opel_Vectra_1.6_16V   \n",
       "\n",
       "       seller offerType    price   abtest vehicleType  yearOfRegistration  \\\n",
       "0      privat   Angebot   $5,000  control         bus                2004   \n",
       "1      privat   Angebot   $8,500  control   limousine                1997   \n",
       "2      privat   Angebot   $8,990     test   limousine                2009   \n",
       "3      privat   Angebot   $4,350  control  kleinwagen                2007   \n",
       "4      privat   Angebot   $1,350     test       kombi                2003   \n",
       "...       ...       ...      ...      ...         ...                 ...   \n",
       "49995  privat   Angebot  $24,900  control   limousine                2011   \n",
       "49996  privat   Angebot   $1,980  control      cabrio                1996   \n",
       "49997  privat   Angebot  $13,200     test      cabrio                2014   \n",
       "49998  privat   Angebot  $22,900  control       kombi                2013   \n",
       "49999  privat   Angebot   $1,250  control   limousine                1996   \n",
       "\n",
       "         gearbox  powerPS   model   odometer  monthOfRegistration fuelType  \\\n",
       "0        manuell      158  andere  150,000km                    3      lpg   \n",
       "1      automatik      286     7er  150,000km                    6   benzin   \n",
       "2        manuell      102    golf   70,000km                    7   benzin   \n",
       "3      automatik       71  fortwo   70,000km                    6   benzin   \n",
       "4        manuell        0   focus  150,000km                    7   benzin   \n",
       "...          ...      ...     ...        ...                  ...      ...   \n",
       "49995  automatik      239      q5  100,000km                    1   diesel   \n",
       "49996    manuell       75   astra  150,000km                    5   benzin   \n",
       "49997  automatik       69     500    5,000km                   11   benzin   \n",
       "49998    manuell      150      a3   40,000km                   11   diesel   \n",
       "49999    manuell      101  vectra  150,000km                    1   benzin   \n",
       "\n",
       "            brand notRepairedDamage          dateCreated  nrOfPictures  \\\n",
       "0         peugeot              nein  2016-03-26 00:00:00             0   \n",
       "1             bmw              nein  2016-04-04 00:00:00             0   \n",
       "2      volkswagen              nein  2016-03-26 00:00:00             0   \n",
       "3           smart              nein  2016-03-12 00:00:00             0   \n",
       "4            ford              nein  2016-04-01 00:00:00             0   \n",
       "...           ...               ...                  ...           ...   \n",
       "49995        audi              nein  2016-03-27 00:00:00             0   \n",
       "49996        opel              nein  2016-03-28 00:00:00             0   \n",
       "49997        fiat              nein  2016-04-02 00:00:00             0   \n",
       "49998        audi              nein  2016-03-08 00:00:00             0   \n",
       "49999        opel              nein  2016-03-13 00:00:00             0   \n",
       "\n",
       "       postalCode             lastSeen  \n",
       "0           79588  2016-04-06 06:45:54  \n",
       "1           71034  2016-04-06 14:45:08  \n",
       "2           35394  2016-04-06 20:15:37  \n",
       "3           33729  2016-03-15 03:16:28  \n",
       "4           39218  2016-04-01 14:38:50  \n",
       "...           ...                  ...  \n",
       "49995       82131  2016-04-01 13:47:40  \n",
       "49996       44807  2016-04-02 14:18:02  \n",
       "49997       73430  2016-04-04 11:47:27  \n",
       "49998       35683  2016-04-05 16:45:07  \n",
       "49999       45897  2016-04-06 21:18:48  \n",
       "\n",
       "[50000 rows x 20 columns]"
      ]
     },
     "execution_count": 2,
     "metadata": {},
     "output_type": "execute_result"
    }
   ],
   "source": [
    "autos"
   ]
  },
  {
   "cell_type": "markdown",
   "id": "b204f242",
   "metadata": {},
   "source": [
    "As the dataset is from a German website, many of the terms used are in German, such as \"manuell\" and \"automatik\" instead of \"manual\" and \"automatic\" for the `gearbox` column. The same applies to the `vehicleType` column, with entries such as \"kleinwagen\" and \"kombri\". The `price` and `odometer` columns need to be normalized to the integer type. The `notRepairedDamage` column uses \"nein\" and \"ja\" (\"no\" and \"yes\"), and should be converted into a boolean.\n",
    "\n",
    "Column names use camel case instead of the preferred snake case."
   ]
  },
  {
   "cell_type": "markdown",
   "id": "24b6bd67",
   "metadata": {},
   "source": [
    "### Checking for null values"
   ]
  },
  {
   "cell_type": "code",
   "execution_count": 3,
   "id": "6611c27d",
   "metadata": {},
   "outputs": [
    {
     "name": "stdout",
     "output_type": "stream",
     "text": [
      "vehicleType has null values.\n",
      "gearbox has null values.\n",
      "model has null values.\n",
      "fuelType has null values.\n",
      "notRepairedDamage has null values.\n"
     ]
    }
   ],
   "source": [
    "for col in autos:\n",
    "    if autos[col].isnull().any():\n",
    "        print(f\"{col} has null values.\")"
   ]
  },
  {
   "cell_type": "markdown",
   "id": "32e48290",
   "metadata": {},
   "source": [
    "Additionally, several columns contain null values. We can deal with these later, after cleaning up the columns."
   ]
  },
  {
   "cell_type": "markdown",
   "id": "bb1201d6",
   "metadata": {},
   "source": [
    "## Cleaning the data"
   ]
  },
  {
   "cell_type": "markdown",
   "id": "2fba62a6",
   "metadata": {},
   "source": [
    "### Renaming and retyping columns\n",
    "\n",
    "First, we will rename the columns in bulk to use snake case."
   ]
  },
  {
   "cell_type": "code",
   "execution_count": 4,
   "id": "a819e8e5",
   "metadata": {},
   "outputs": [
    {
     "data": {
      "text/html": [
       "<div>\n",
       "<style scoped>\n",
       "    .dataframe tbody tr th:only-of-type {\n",
       "        vertical-align: middle;\n",
       "    }\n",
       "\n",
       "    .dataframe tbody tr th {\n",
       "        vertical-align: top;\n",
       "    }\n",
       "\n",
       "    .dataframe thead th {\n",
       "        text-align: right;\n",
       "    }\n",
       "</style>\n",
       "<table border=\"1\" class=\"dataframe\">\n",
       "  <thead>\n",
       "    <tr style=\"text-align: right;\">\n",
       "      <th></th>\n",
       "      <th>ad_crawled</th>\n",
       "      <th>name</th>\n",
       "      <th>seller</th>\n",
       "      <th>offer_type</th>\n",
       "      <th>price</th>\n",
       "      <th>ab_test</th>\n",
       "      <th>vehicle_type</th>\n",
       "      <th>registration_year</th>\n",
       "      <th>gearbox</th>\n",
       "      <th>power_ps</th>\n",
       "      <th>model</th>\n",
       "      <th>odometer</th>\n",
       "      <th>registration_month</th>\n",
       "      <th>fuel_type</th>\n",
       "      <th>brand</th>\n",
       "      <th>unrepaired_damage</th>\n",
       "      <th>ad_created</th>\n",
       "      <th>picture_count</th>\n",
       "      <th>postal_code</th>\n",
       "      <th>last_seen</th>\n",
       "    </tr>\n",
       "  </thead>\n",
       "  <tbody>\n",
       "    <tr>\n",
       "      <th>0</th>\n",
       "      <td>2016-03-26 17:47:46</td>\n",
       "      <td>Peugeot_807_160_NAVTECH_ON_BOARD</td>\n",
       "      <td>privat</td>\n",
       "      <td>Angebot</td>\n",
       "      <td>$5,000</td>\n",
       "      <td>control</td>\n",
       "      <td>bus</td>\n",
       "      <td>2004</td>\n",
       "      <td>manuell</td>\n",
       "      <td>158</td>\n",
       "      <td>andere</td>\n",
       "      <td>150,000km</td>\n",
       "      <td>3</td>\n",
       "      <td>lpg</td>\n",
       "      <td>peugeot</td>\n",
       "      <td>nein</td>\n",
       "      <td>2016-03-26 00:00:00</td>\n",
       "      <td>0</td>\n",
       "      <td>79588</td>\n",
       "      <td>2016-04-06 06:45:54</td>\n",
       "    </tr>\n",
       "    <tr>\n",
       "      <th>1</th>\n",
       "      <td>2016-04-04 13:38:56</td>\n",
       "      <td>BMW_740i_4_4_Liter_HAMANN_UMBAU_Mega_Optik</td>\n",
       "      <td>privat</td>\n",
       "      <td>Angebot</td>\n",
       "      <td>$8,500</td>\n",
       "      <td>control</td>\n",
       "      <td>limousine</td>\n",
       "      <td>1997</td>\n",
       "      <td>automatik</td>\n",
       "      <td>286</td>\n",
       "      <td>7er</td>\n",
       "      <td>150,000km</td>\n",
       "      <td>6</td>\n",
       "      <td>benzin</td>\n",
       "      <td>bmw</td>\n",
       "      <td>nein</td>\n",
       "      <td>2016-04-04 00:00:00</td>\n",
       "      <td>0</td>\n",
       "      <td>71034</td>\n",
       "      <td>2016-04-06 14:45:08</td>\n",
       "    </tr>\n",
       "    <tr>\n",
       "      <th>2</th>\n",
       "      <td>2016-03-26 18:57:24</td>\n",
       "      <td>Volkswagen_Golf_1.6_United</td>\n",
       "      <td>privat</td>\n",
       "      <td>Angebot</td>\n",
       "      <td>$8,990</td>\n",
       "      <td>test</td>\n",
       "      <td>limousine</td>\n",
       "      <td>2009</td>\n",
       "      <td>manuell</td>\n",
       "      <td>102</td>\n",
       "      <td>golf</td>\n",
       "      <td>70,000km</td>\n",
       "      <td>7</td>\n",
       "      <td>benzin</td>\n",
       "      <td>volkswagen</td>\n",
       "      <td>nein</td>\n",
       "      <td>2016-03-26 00:00:00</td>\n",
       "      <td>0</td>\n",
       "      <td>35394</td>\n",
       "      <td>2016-04-06 20:15:37</td>\n",
       "    </tr>\n",
       "    <tr>\n",
       "      <th>3</th>\n",
       "      <td>2016-03-12 16:58:10</td>\n",
       "      <td>Smart_smart_fortwo_coupe_softouch/F1/Klima/Pan...</td>\n",
       "      <td>privat</td>\n",
       "      <td>Angebot</td>\n",
       "      <td>$4,350</td>\n",
       "      <td>control</td>\n",
       "      <td>kleinwagen</td>\n",
       "      <td>2007</td>\n",
       "      <td>automatik</td>\n",
       "      <td>71</td>\n",
       "      <td>fortwo</td>\n",
       "      <td>70,000km</td>\n",
       "      <td>6</td>\n",
       "      <td>benzin</td>\n",
       "      <td>smart</td>\n",
       "      <td>nein</td>\n",
       "      <td>2016-03-12 00:00:00</td>\n",
       "      <td>0</td>\n",
       "      <td>33729</td>\n",
       "      <td>2016-03-15 03:16:28</td>\n",
       "    </tr>\n",
       "    <tr>\n",
       "      <th>4</th>\n",
       "      <td>2016-04-01 14:38:50</td>\n",
       "      <td>Ford_Focus_1_6_Benzin_TÜV_neu_ist_sehr_gepfleg...</td>\n",
       "      <td>privat</td>\n",
       "      <td>Angebot</td>\n",
       "      <td>$1,350</td>\n",
       "      <td>test</td>\n",
       "      <td>kombi</td>\n",
       "      <td>2003</td>\n",
       "      <td>manuell</td>\n",
       "      <td>0</td>\n",
       "      <td>focus</td>\n",
       "      <td>150,000km</td>\n",
       "      <td>7</td>\n",
       "      <td>benzin</td>\n",
       "      <td>ford</td>\n",
       "      <td>nein</td>\n",
       "      <td>2016-04-01 00:00:00</td>\n",
       "      <td>0</td>\n",
       "      <td>39218</td>\n",
       "      <td>2016-04-01 14:38:50</td>\n",
       "    </tr>\n",
       "  </tbody>\n",
       "</table>\n",
       "</div>"
      ],
      "text/plain": [
       "            ad_crawled                                               name  \\\n",
       "0  2016-03-26 17:47:46                   Peugeot_807_160_NAVTECH_ON_BOARD   \n",
       "1  2016-04-04 13:38:56         BMW_740i_4_4_Liter_HAMANN_UMBAU_Mega_Optik   \n",
       "2  2016-03-26 18:57:24                         Volkswagen_Golf_1.6_United   \n",
       "3  2016-03-12 16:58:10  Smart_smart_fortwo_coupe_softouch/F1/Klima/Pan...   \n",
       "4  2016-04-01 14:38:50  Ford_Focus_1_6_Benzin_TÜV_neu_ist_sehr_gepfleg...   \n",
       "\n",
       "   seller offer_type   price  ab_test vehicle_type  registration_year  \\\n",
       "0  privat    Angebot  $5,000  control          bus               2004   \n",
       "1  privat    Angebot  $8,500  control    limousine               1997   \n",
       "2  privat    Angebot  $8,990     test    limousine               2009   \n",
       "3  privat    Angebot  $4,350  control   kleinwagen               2007   \n",
       "4  privat    Angebot  $1,350     test        kombi               2003   \n",
       "\n",
       "     gearbox  power_ps   model   odometer  registration_month fuel_type  \\\n",
       "0    manuell       158  andere  150,000km                   3       lpg   \n",
       "1  automatik       286     7er  150,000km                   6    benzin   \n",
       "2    manuell       102    golf   70,000km                   7    benzin   \n",
       "3  automatik        71  fortwo   70,000km                   6    benzin   \n",
       "4    manuell         0   focus  150,000km                   7    benzin   \n",
       "\n",
       "        brand unrepaired_damage           ad_created  picture_count  \\\n",
       "0     peugeot              nein  2016-03-26 00:00:00              0   \n",
       "1         bmw              nein  2016-04-04 00:00:00              0   \n",
       "2  volkswagen              nein  2016-03-26 00:00:00              0   \n",
       "3       smart              nein  2016-03-12 00:00:00              0   \n",
       "4        ford              nein  2016-04-01 00:00:00              0   \n",
       "\n",
       "   postal_code            last_seen  \n",
       "0        79588  2016-04-06 06:45:54  \n",
       "1        71034  2016-04-06 14:45:08  \n",
       "2        35394  2016-04-06 20:15:37  \n",
       "3        33729  2016-03-15 03:16:28  \n",
       "4        39218  2016-04-01 14:38:50  "
      ]
     },
     "execution_count": 4,
     "metadata": {},
     "output_type": "execute_result"
    }
   ],
   "source": [
    "column_rename = {\n",
    "    \"dateCrawled\": \"ad_crawled\",\n",
    "    \"offerType\": \"offer_type\",\n",
    "    \"abtest\": \"ab_test\",\n",
    "    \"vehicleType\": \"vehicle_type\",\n",
    "    \"yearOfRegistration\": \"registration_year\",\n",
    "    \"powerPS\": \"power_ps\",\n",
    "    \"monthOfRegistration\": \"registration_month\",\n",
    "    \"fuelType\": \"fuel_type\",\n",
    "    \"notRepairedDamage\": \"unrepaired_damage\",\n",
    "    \"dateCreated\": \"ad_created\",\n",
    "    \"nrOfPictures\": \"picture_count\",\n",
    "    \"postalCode\": \"postal_code\",\n",
    "    \"lastSeen\": \"last_seen\",\n",
    "}\n",
    "\n",
    "autos.rename(columns=column_rename, inplace=True)\n",
    "\n",
    "autos.head(5)"
   ]
  },
  {
   "cell_type": "markdown",
   "id": "66330ae6",
   "metadata": {},
   "source": [
    "The columns are now in a more manageable form. Next, we will see if any columns are not useful, like a text column where almost all values are the same."
   ]
  },
  {
   "cell_type": "code",
   "execution_count": 5,
   "id": "b1a42376",
   "metadata": {},
   "outputs": [
    {
     "data": {
      "text/html": [
       "<div>\n",
       "<style scoped>\n",
       "    .dataframe tbody tr th:only-of-type {\n",
       "        vertical-align: middle;\n",
       "    }\n",
       "\n",
       "    .dataframe tbody tr th {\n",
       "        vertical-align: top;\n",
       "    }\n",
       "\n",
       "    .dataframe thead th {\n",
       "        text-align: right;\n",
       "    }\n",
       "</style>\n",
       "<table border=\"1\" class=\"dataframe\">\n",
       "  <thead>\n",
       "    <tr style=\"text-align: right;\">\n",
       "      <th></th>\n",
       "      <th>ad_crawled</th>\n",
       "      <th>name</th>\n",
       "      <th>seller</th>\n",
       "      <th>offer_type</th>\n",
       "      <th>price</th>\n",
       "      <th>ab_test</th>\n",
       "      <th>vehicle_type</th>\n",
       "      <th>registration_year</th>\n",
       "      <th>gearbox</th>\n",
       "      <th>power_ps</th>\n",
       "      <th>model</th>\n",
       "      <th>odometer</th>\n",
       "      <th>registration_month</th>\n",
       "      <th>fuel_type</th>\n",
       "      <th>brand</th>\n",
       "      <th>unrepaired_damage</th>\n",
       "      <th>ad_created</th>\n",
       "      <th>picture_count</th>\n",
       "      <th>postal_code</th>\n",
       "      <th>last_seen</th>\n",
       "    </tr>\n",
       "  </thead>\n",
       "  <tbody>\n",
       "    <tr>\n",
       "      <th>count</th>\n",
       "      <td>50000</td>\n",
       "      <td>50000</td>\n",
       "      <td>50000</td>\n",
       "      <td>50000</td>\n",
       "      <td>50000</td>\n",
       "      <td>50000</td>\n",
       "      <td>44905</td>\n",
       "      <td>50000.000000</td>\n",
       "      <td>47320</td>\n",
       "      <td>50000.000000</td>\n",
       "      <td>47242</td>\n",
       "      <td>50000</td>\n",
       "      <td>50000.000000</td>\n",
       "      <td>45518</td>\n",
       "      <td>50000</td>\n",
       "      <td>40171</td>\n",
       "      <td>50000</td>\n",
       "      <td>50000.0</td>\n",
       "      <td>50000.000000</td>\n",
       "      <td>50000</td>\n",
       "    </tr>\n",
       "    <tr>\n",
       "      <th>unique</th>\n",
       "      <td>48213</td>\n",
       "      <td>38754</td>\n",
       "      <td>2</td>\n",
       "      <td>2</td>\n",
       "      <td>2357</td>\n",
       "      <td>2</td>\n",
       "      <td>8</td>\n",
       "      <td>NaN</td>\n",
       "      <td>2</td>\n",
       "      <td>NaN</td>\n",
       "      <td>245</td>\n",
       "      <td>13</td>\n",
       "      <td>NaN</td>\n",
       "      <td>7</td>\n",
       "      <td>40</td>\n",
       "      <td>2</td>\n",
       "      <td>76</td>\n",
       "      <td>NaN</td>\n",
       "      <td>NaN</td>\n",
       "      <td>39481</td>\n",
       "    </tr>\n",
       "    <tr>\n",
       "      <th>top</th>\n",
       "      <td>2016-04-02 11:37:04</td>\n",
       "      <td>Ford_Fiesta</td>\n",
       "      <td>privat</td>\n",
       "      <td>Angebot</td>\n",
       "      <td>$0</td>\n",
       "      <td>test</td>\n",
       "      <td>limousine</td>\n",
       "      <td>NaN</td>\n",
       "      <td>manuell</td>\n",
       "      <td>NaN</td>\n",
       "      <td>golf</td>\n",
       "      <td>150,000km</td>\n",
       "      <td>NaN</td>\n",
       "      <td>benzin</td>\n",
       "      <td>volkswagen</td>\n",
       "      <td>nein</td>\n",
       "      <td>2016-04-03 00:00:00</td>\n",
       "      <td>NaN</td>\n",
       "      <td>NaN</td>\n",
       "      <td>2016-04-07 06:17:27</td>\n",
       "    </tr>\n",
       "    <tr>\n",
       "      <th>freq</th>\n",
       "      <td>3</td>\n",
       "      <td>78</td>\n",
       "      <td>49999</td>\n",
       "      <td>49999</td>\n",
       "      <td>1421</td>\n",
       "      <td>25756</td>\n",
       "      <td>12859</td>\n",
       "      <td>NaN</td>\n",
       "      <td>36993</td>\n",
       "      <td>NaN</td>\n",
       "      <td>4024</td>\n",
       "      <td>32424</td>\n",
       "      <td>NaN</td>\n",
       "      <td>30107</td>\n",
       "      <td>10687</td>\n",
       "      <td>35232</td>\n",
       "      <td>1946</td>\n",
       "      <td>NaN</td>\n",
       "      <td>NaN</td>\n",
       "      <td>8</td>\n",
       "    </tr>\n",
       "    <tr>\n",
       "      <th>mean</th>\n",
       "      <td>NaN</td>\n",
       "      <td>NaN</td>\n",
       "      <td>NaN</td>\n",
       "      <td>NaN</td>\n",
       "      <td>NaN</td>\n",
       "      <td>NaN</td>\n",
       "      <td>NaN</td>\n",
       "      <td>2005.073280</td>\n",
       "      <td>NaN</td>\n",
       "      <td>116.355920</td>\n",
       "      <td>NaN</td>\n",
       "      <td>NaN</td>\n",
       "      <td>5.723360</td>\n",
       "      <td>NaN</td>\n",
       "      <td>NaN</td>\n",
       "      <td>NaN</td>\n",
       "      <td>NaN</td>\n",
       "      <td>0.0</td>\n",
       "      <td>50813.627300</td>\n",
       "      <td>NaN</td>\n",
       "    </tr>\n",
       "    <tr>\n",
       "      <th>std</th>\n",
       "      <td>NaN</td>\n",
       "      <td>NaN</td>\n",
       "      <td>NaN</td>\n",
       "      <td>NaN</td>\n",
       "      <td>NaN</td>\n",
       "      <td>NaN</td>\n",
       "      <td>NaN</td>\n",
       "      <td>105.712813</td>\n",
       "      <td>NaN</td>\n",
       "      <td>209.216627</td>\n",
       "      <td>NaN</td>\n",
       "      <td>NaN</td>\n",
       "      <td>3.711984</td>\n",
       "      <td>NaN</td>\n",
       "      <td>NaN</td>\n",
       "      <td>NaN</td>\n",
       "      <td>NaN</td>\n",
       "      <td>0.0</td>\n",
       "      <td>25779.747957</td>\n",
       "      <td>NaN</td>\n",
       "    </tr>\n",
       "    <tr>\n",
       "      <th>min</th>\n",
       "      <td>NaN</td>\n",
       "      <td>NaN</td>\n",
       "      <td>NaN</td>\n",
       "      <td>NaN</td>\n",
       "      <td>NaN</td>\n",
       "      <td>NaN</td>\n",
       "      <td>NaN</td>\n",
       "      <td>1000.000000</td>\n",
       "      <td>NaN</td>\n",
       "      <td>0.000000</td>\n",
       "      <td>NaN</td>\n",
       "      <td>NaN</td>\n",
       "      <td>0.000000</td>\n",
       "      <td>NaN</td>\n",
       "      <td>NaN</td>\n",
       "      <td>NaN</td>\n",
       "      <td>NaN</td>\n",
       "      <td>0.0</td>\n",
       "      <td>1067.000000</td>\n",
       "      <td>NaN</td>\n",
       "    </tr>\n",
       "    <tr>\n",
       "      <th>25%</th>\n",
       "      <td>NaN</td>\n",
       "      <td>NaN</td>\n",
       "      <td>NaN</td>\n",
       "      <td>NaN</td>\n",
       "      <td>NaN</td>\n",
       "      <td>NaN</td>\n",
       "      <td>NaN</td>\n",
       "      <td>1999.000000</td>\n",
       "      <td>NaN</td>\n",
       "      <td>70.000000</td>\n",
       "      <td>NaN</td>\n",
       "      <td>NaN</td>\n",
       "      <td>3.000000</td>\n",
       "      <td>NaN</td>\n",
       "      <td>NaN</td>\n",
       "      <td>NaN</td>\n",
       "      <td>NaN</td>\n",
       "      <td>0.0</td>\n",
       "      <td>30451.000000</td>\n",
       "      <td>NaN</td>\n",
       "    </tr>\n",
       "    <tr>\n",
       "      <th>50%</th>\n",
       "      <td>NaN</td>\n",
       "      <td>NaN</td>\n",
       "      <td>NaN</td>\n",
       "      <td>NaN</td>\n",
       "      <td>NaN</td>\n",
       "      <td>NaN</td>\n",
       "      <td>NaN</td>\n",
       "      <td>2003.000000</td>\n",
       "      <td>NaN</td>\n",
       "      <td>105.000000</td>\n",
       "      <td>NaN</td>\n",
       "      <td>NaN</td>\n",
       "      <td>6.000000</td>\n",
       "      <td>NaN</td>\n",
       "      <td>NaN</td>\n",
       "      <td>NaN</td>\n",
       "      <td>NaN</td>\n",
       "      <td>0.0</td>\n",
       "      <td>49577.000000</td>\n",
       "      <td>NaN</td>\n",
       "    </tr>\n",
       "    <tr>\n",
       "      <th>75%</th>\n",
       "      <td>NaN</td>\n",
       "      <td>NaN</td>\n",
       "      <td>NaN</td>\n",
       "      <td>NaN</td>\n",
       "      <td>NaN</td>\n",
       "      <td>NaN</td>\n",
       "      <td>NaN</td>\n",
       "      <td>2008.000000</td>\n",
       "      <td>NaN</td>\n",
       "      <td>150.000000</td>\n",
       "      <td>NaN</td>\n",
       "      <td>NaN</td>\n",
       "      <td>9.000000</td>\n",
       "      <td>NaN</td>\n",
       "      <td>NaN</td>\n",
       "      <td>NaN</td>\n",
       "      <td>NaN</td>\n",
       "      <td>0.0</td>\n",
       "      <td>71540.000000</td>\n",
       "      <td>NaN</td>\n",
       "    </tr>\n",
       "    <tr>\n",
       "      <th>max</th>\n",
       "      <td>NaN</td>\n",
       "      <td>NaN</td>\n",
       "      <td>NaN</td>\n",
       "      <td>NaN</td>\n",
       "      <td>NaN</td>\n",
       "      <td>NaN</td>\n",
       "      <td>NaN</td>\n",
       "      <td>9999.000000</td>\n",
       "      <td>NaN</td>\n",
       "      <td>17700.000000</td>\n",
       "      <td>NaN</td>\n",
       "      <td>NaN</td>\n",
       "      <td>12.000000</td>\n",
       "      <td>NaN</td>\n",
       "      <td>NaN</td>\n",
       "      <td>NaN</td>\n",
       "      <td>NaN</td>\n",
       "      <td>0.0</td>\n",
       "      <td>99998.000000</td>\n",
       "      <td>NaN</td>\n",
       "    </tr>\n",
       "  </tbody>\n",
       "</table>\n",
       "</div>"
      ],
      "text/plain": [
       "                 ad_crawled         name  seller offer_type  price ab_test  \\\n",
       "count                 50000        50000   50000      50000  50000   50000   \n",
       "unique                48213        38754       2          2   2357       2   \n",
       "top     2016-04-02 11:37:04  Ford_Fiesta  privat    Angebot     $0    test   \n",
       "freq                      3           78   49999      49999   1421   25756   \n",
       "mean                    NaN          NaN     NaN        NaN    NaN     NaN   \n",
       "std                     NaN          NaN     NaN        NaN    NaN     NaN   \n",
       "min                     NaN          NaN     NaN        NaN    NaN     NaN   \n",
       "25%                     NaN          NaN     NaN        NaN    NaN     NaN   \n",
       "50%                     NaN          NaN     NaN        NaN    NaN     NaN   \n",
       "75%                     NaN          NaN     NaN        NaN    NaN     NaN   \n",
       "max                     NaN          NaN     NaN        NaN    NaN     NaN   \n",
       "\n",
       "       vehicle_type  registration_year  gearbox      power_ps  model  \\\n",
       "count         44905       50000.000000    47320  50000.000000  47242   \n",
       "unique            8                NaN        2           NaN    245   \n",
       "top       limousine                NaN  manuell           NaN   golf   \n",
       "freq          12859                NaN    36993           NaN   4024   \n",
       "mean            NaN        2005.073280      NaN    116.355920    NaN   \n",
       "std             NaN         105.712813      NaN    209.216627    NaN   \n",
       "min             NaN        1000.000000      NaN      0.000000    NaN   \n",
       "25%             NaN        1999.000000      NaN     70.000000    NaN   \n",
       "50%             NaN        2003.000000      NaN    105.000000    NaN   \n",
       "75%             NaN        2008.000000      NaN    150.000000    NaN   \n",
       "max             NaN        9999.000000      NaN  17700.000000    NaN   \n",
       "\n",
       "         odometer  registration_month fuel_type       brand unrepaired_damage  \\\n",
       "count       50000        50000.000000     45518       50000             40171   \n",
       "unique         13                 NaN         7          40                 2   \n",
       "top     150,000km                 NaN    benzin  volkswagen              nein   \n",
       "freq        32424                 NaN     30107       10687             35232   \n",
       "mean          NaN            5.723360       NaN         NaN               NaN   \n",
       "std           NaN            3.711984       NaN         NaN               NaN   \n",
       "min           NaN            0.000000       NaN         NaN               NaN   \n",
       "25%           NaN            3.000000       NaN         NaN               NaN   \n",
       "50%           NaN            6.000000       NaN         NaN               NaN   \n",
       "75%           NaN            9.000000       NaN         NaN               NaN   \n",
       "max           NaN           12.000000       NaN         NaN               NaN   \n",
       "\n",
       "                 ad_created  picture_count   postal_code            last_seen  \n",
       "count                 50000        50000.0  50000.000000                50000  \n",
       "unique                   76            NaN           NaN                39481  \n",
       "top     2016-04-03 00:00:00            NaN           NaN  2016-04-07 06:17:27  \n",
       "freq                   1946            NaN           NaN                    8  \n",
       "mean                    NaN            0.0  50813.627300                  NaN  \n",
       "std                     NaN            0.0  25779.747957                  NaN  \n",
       "min                     NaN            0.0   1067.000000                  NaN  \n",
       "25%                     NaN            0.0  30451.000000                  NaN  \n",
       "50%                     NaN            0.0  49577.000000                  NaN  \n",
       "75%                     NaN            0.0  71540.000000                  NaN  \n",
       "max                     NaN            0.0  99998.000000                  NaN  "
      ]
     },
     "execution_count": 5,
     "metadata": {},
     "output_type": "execute_result"
    }
   ],
   "source": [
    "autos.describe(include=\"all\")"
   ]
  },
  {
   "cell_type": "markdown",
   "id": "79d94d77",
   "metadata": {},
   "source": [
    "The following columns need some kind of change:\n",
    "\n",
    "* `seller`, `offer_type`, `picture_count` - Not enough variance to be useful. Delete.\n",
    "* `price`, `odometer` - Convert to an integer. Move units to column name.\n",
    "* `unrepaired_damage` - Convert to a boolean.\n",
    "\n",
    "We will also apply a set of translations to our data once these changes are in place."
   ]
  },
  {
   "cell_type": "code",
   "execution_count": 6,
   "id": "58b1a9da",
   "metadata": {},
   "outputs": [
    {
     "data": {
      "text/html": [
       "<div>\n",
       "<style scoped>\n",
       "    .dataframe tbody tr th:only-of-type {\n",
       "        vertical-align: middle;\n",
       "    }\n",
       "\n",
       "    .dataframe tbody tr th {\n",
       "        vertical-align: top;\n",
       "    }\n",
       "\n",
       "    .dataframe thead th {\n",
       "        text-align: right;\n",
       "    }\n",
       "</style>\n",
       "<table border=\"1\" class=\"dataframe\">\n",
       "  <thead>\n",
       "    <tr style=\"text-align: right;\">\n",
       "      <th></th>\n",
       "      <th>ad_crawled</th>\n",
       "      <th>name</th>\n",
       "      <th>price_usd</th>\n",
       "      <th>ab_test</th>\n",
       "      <th>vehicle_type</th>\n",
       "      <th>registration_year</th>\n",
       "      <th>gearbox</th>\n",
       "      <th>power_ps</th>\n",
       "      <th>model</th>\n",
       "      <th>odometer_km</th>\n",
       "      <th>registration_month</th>\n",
       "      <th>fuel_type</th>\n",
       "      <th>brand</th>\n",
       "      <th>unrepaired_damage</th>\n",
       "      <th>ad_created</th>\n",
       "      <th>postal_code</th>\n",
       "      <th>last_seen</th>\n",
       "    </tr>\n",
       "  </thead>\n",
       "  <tbody>\n",
       "    <tr>\n",
       "      <th>count</th>\n",
       "      <td>50000</td>\n",
       "      <td>50000</td>\n",
       "      <td>5.000000e+04</td>\n",
       "      <td>50000</td>\n",
       "      <td>44905</td>\n",
       "      <td>50000.000000</td>\n",
       "      <td>47320</td>\n",
       "      <td>50000.000000</td>\n",
       "      <td>47242</td>\n",
       "      <td>50000.000000</td>\n",
       "      <td>50000.000000</td>\n",
       "      <td>45518</td>\n",
       "      <td>50000</td>\n",
       "      <td>50000</td>\n",
       "      <td>50000</td>\n",
       "      <td>50000.000000</td>\n",
       "      <td>50000</td>\n",
       "    </tr>\n",
       "    <tr>\n",
       "      <th>unique</th>\n",
       "      <td>48213</td>\n",
       "      <td>38754</td>\n",
       "      <td>NaN</td>\n",
       "      <td>2</td>\n",
       "      <td>8</td>\n",
       "      <td>NaN</td>\n",
       "      <td>2</td>\n",
       "      <td>NaN</td>\n",
       "      <td>245</td>\n",
       "      <td>NaN</td>\n",
       "      <td>NaN</td>\n",
       "      <td>7</td>\n",
       "      <td>40</td>\n",
       "      <td>2</td>\n",
       "      <td>76</td>\n",
       "      <td>NaN</td>\n",
       "      <td>39481</td>\n",
       "    </tr>\n",
       "    <tr>\n",
       "      <th>top</th>\n",
       "      <td>2016-04-02 11:37:04</td>\n",
       "      <td>Ford_Fiesta</td>\n",
       "      <td>NaN</td>\n",
       "      <td>test</td>\n",
       "      <td>limousine</td>\n",
       "      <td>NaN</td>\n",
       "      <td>manuell</td>\n",
       "      <td>NaN</td>\n",
       "      <td>golf</td>\n",
       "      <td>NaN</td>\n",
       "      <td>NaN</td>\n",
       "      <td>benzin</td>\n",
       "      <td>volkswagen</td>\n",
       "      <td>False</td>\n",
       "      <td>2016-04-03 00:00:00</td>\n",
       "      <td>NaN</td>\n",
       "      <td>2016-04-07 06:17:27</td>\n",
       "    </tr>\n",
       "    <tr>\n",
       "      <th>freq</th>\n",
       "      <td>3</td>\n",
       "      <td>78</td>\n",
       "      <td>NaN</td>\n",
       "      <td>25756</td>\n",
       "      <td>12859</td>\n",
       "      <td>NaN</td>\n",
       "      <td>36993</td>\n",
       "      <td>NaN</td>\n",
       "      <td>4024</td>\n",
       "      <td>NaN</td>\n",
       "      <td>NaN</td>\n",
       "      <td>30107</td>\n",
       "      <td>10687</td>\n",
       "      <td>35232</td>\n",
       "      <td>1946</td>\n",
       "      <td>NaN</td>\n",
       "      <td>8</td>\n",
       "    </tr>\n",
       "    <tr>\n",
       "      <th>mean</th>\n",
       "      <td>NaN</td>\n",
       "      <td>NaN</td>\n",
       "      <td>9.840044e+03</td>\n",
       "      <td>NaN</td>\n",
       "      <td>NaN</td>\n",
       "      <td>2005.073280</td>\n",
       "      <td>NaN</td>\n",
       "      <td>116.355920</td>\n",
       "      <td>NaN</td>\n",
       "      <td>125732.700000</td>\n",
       "      <td>5.723360</td>\n",
       "      <td>NaN</td>\n",
       "      <td>NaN</td>\n",
       "      <td>NaN</td>\n",
       "      <td>NaN</td>\n",
       "      <td>50813.627300</td>\n",
       "      <td>NaN</td>\n",
       "    </tr>\n",
       "    <tr>\n",
       "      <th>std</th>\n",
       "      <td>NaN</td>\n",
       "      <td>NaN</td>\n",
       "      <td>4.811044e+05</td>\n",
       "      <td>NaN</td>\n",
       "      <td>NaN</td>\n",
       "      <td>105.712813</td>\n",
       "      <td>NaN</td>\n",
       "      <td>209.216627</td>\n",
       "      <td>NaN</td>\n",
       "      <td>40042.211706</td>\n",
       "      <td>3.711984</td>\n",
       "      <td>NaN</td>\n",
       "      <td>NaN</td>\n",
       "      <td>NaN</td>\n",
       "      <td>NaN</td>\n",
       "      <td>25779.747957</td>\n",
       "      <td>NaN</td>\n",
       "    </tr>\n",
       "    <tr>\n",
       "      <th>min</th>\n",
       "      <td>NaN</td>\n",
       "      <td>NaN</td>\n",
       "      <td>0.000000e+00</td>\n",
       "      <td>NaN</td>\n",
       "      <td>NaN</td>\n",
       "      <td>1000.000000</td>\n",
       "      <td>NaN</td>\n",
       "      <td>0.000000</td>\n",
       "      <td>NaN</td>\n",
       "      <td>5000.000000</td>\n",
       "      <td>0.000000</td>\n",
       "      <td>NaN</td>\n",
       "      <td>NaN</td>\n",
       "      <td>NaN</td>\n",
       "      <td>NaN</td>\n",
       "      <td>1067.000000</td>\n",
       "      <td>NaN</td>\n",
       "    </tr>\n",
       "    <tr>\n",
       "      <th>25%</th>\n",
       "      <td>NaN</td>\n",
       "      <td>NaN</td>\n",
       "      <td>1.100000e+03</td>\n",
       "      <td>NaN</td>\n",
       "      <td>NaN</td>\n",
       "      <td>1999.000000</td>\n",
       "      <td>NaN</td>\n",
       "      <td>70.000000</td>\n",
       "      <td>NaN</td>\n",
       "      <td>125000.000000</td>\n",
       "      <td>3.000000</td>\n",
       "      <td>NaN</td>\n",
       "      <td>NaN</td>\n",
       "      <td>NaN</td>\n",
       "      <td>NaN</td>\n",
       "      <td>30451.000000</td>\n",
       "      <td>NaN</td>\n",
       "    </tr>\n",
       "    <tr>\n",
       "      <th>50%</th>\n",
       "      <td>NaN</td>\n",
       "      <td>NaN</td>\n",
       "      <td>2.950000e+03</td>\n",
       "      <td>NaN</td>\n",
       "      <td>NaN</td>\n",
       "      <td>2003.000000</td>\n",
       "      <td>NaN</td>\n",
       "      <td>105.000000</td>\n",
       "      <td>NaN</td>\n",
       "      <td>150000.000000</td>\n",
       "      <td>6.000000</td>\n",
       "      <td>NaN</td>\n",
       "      <td>NaN</td>\n",
       "      <td>NaN</td>\n",
       "      <td>NaN</td>\n",
       "      <td>49577.000000</td>\n",
       "      <td>NaN</td>\n",
       "    </tr>\n",
       "    <tr>\n",
       "      <th>75%</th>\n",
       "      <td>NaN</td>\n",
       "      <td>NaN</td>\n",
       "      <td>7.200000e+03</td>\n",
       "      <td>NaN</td>\n",
       "      <td>NaN</td>\n",
       "      <td>2008.000000</td>\n",
       "      <td>NaN</td>\n",
       "      <td>150.000000</td>\n",
       "      <td>NaN</td>\n",
       "      <td>150000.000000</td>\n",
       "      <td>9.000000</td>\n",
       "      <td>NaN</td>\n",
       "      <td>NaN</td>\n",
       "      <td>NaN</td>\n",
       "      <td>NaN</td>\n",
       "      <td>71540.000000</td>\n",
       "      <td>NaN</td>\n",
       "    </tr>\n",
       "    <tr>\n",
       "      <th>max</th>\n",
       "      <td>NaN</td>\n",
       "      <td>NaN</td>\n",
       "      <td>1.000000e+08</td>\n",
       "      <td>NaN</td>\n",
       "      <td>NaN</td>\n",
       "      <td>9999.000000</td>\n",
       "      <td>NaN</td>\n",
       "      <td>17700.000000</td>\n",
       "      <td>NaN</td>\n",
       "      <td>150000.000000</td>\n",
       "      <td>12.000000</td>\n",
       "      <td>NaN</td>\n",
       "      <td>NaN</td>\n",
       "      <td>NaN</td>\n",
       "      <td>NaN</td>\n",
       "      <td>99998.000000</td>\n",
       "      <td>NaN</td>\n",
       "    </tr>\n",
       "  </tbody>\n",
       "</table>\n",
       "</div>"
      ],
      "text/plain": [
       "                 ad_crawled         name     price_usd ab_test vehicle_type  \\\n",
       "count                 50000        50000  5.000000e+04   50000        44905   \n",
       "unique                48213        38754           NaN       2            8   \n",
       "top     2016-04-02 11:37:04  Ford_Fiesta           NaN    test    limousine   \n",
       "freq                      3           78           NaN   25756        12859   \n",
       "mean                    NaN          NaN  9.840044e+03     NaN          NaN   \n",
       "std                     NaN          NaN  4.811044e+05     NaN          NaN   \n",
       "min                     NaN          NaN  0.000000e+00     NaN          NaN   \n",
       "25%                     NaN          NaN  1.100000e+03     NaN          NaN   \n",
       "50%                     NaN          NaN  2.950000e+03     NaN          NaN   \n",
       "75%                     NaN          NaN  7.200000e+03     NaN          NaN   \n",
       "max                     NaN          NaN  1.000000e+08     NaN          NaN   \n",
       "\n",
       "        registration_year  gearbox      power_ps  model    odometer_km  \\\n",
       "count        50000.000000    47320  50000.000000  47242   50000.000000   \n",
       "unique                NaN        2           NaN    245            NaN   \n",
       "top                   NaN  manuell           NaN   golf            NaN   \n",
       "freq                  NaN    36993           NaN   4024            NaN   \n",
       "mean          2005.073280      NaN    116.355920    NaN  125732.700000   \n",
       "std            105.712813      NaN    209.216627    NaN   40042.211706   \n",
       "min           1000.000000      NaN      0.000000    NaN    5000.000000   \n",
       "25%           1999.000000      NaN     70.000000    NaN  125000.000000   \n",
       "50%           2003.000000      NaN    105.000000    NaN  150000.000000   \n",
       "75%           2008.000000      NaN    150.000000    NaN  150000.000000   \n",
       "max           9999.000000      NaN  17700.000000    NaN  150000.000000   \n",
       "\n",
       "        registration_month fuel_type       brand unrepaired_damage  \\\n",
       "count         50000.000000     45518       50000             50000   \n",
       "unique                 NaN         7          40                 2   \n",
       "top                    NaN    benzin  volkswagen             False   \n",
       "freq                   NaN     30107       10687             35232   \n",
       "mean              5.723360       NaN         NaN               NaN   \n",
       "std               3.711984       NaN         NaN               NaN   \n",
       "min               0.000000       NaN         NaN               NaN   \n",
       "25%               3.000000       NaN         NaN               NaN   \n",
       "50%               6.000000       NaN         NaN               NaN   \n",
       "75%               9.000000       NaN         NaN               NaN   \n",
       "max              12.000000       NaN         NaN               NaN   \n",
       "\n",
       "                 ad_created   postal_code            last_seen  \n",
       "count                 50000  50000.000000                50000  \n",
       "unique                   76           NaN                39481  \n",
       "top     2016-04-03 00:00:00           NaN  2016-04-07 06:17:27  \n",
       "freq                   1946           NaN                    8  \n",
       "mean                    NaN  50813.627300                  NaN  \n",
       "std                     NaN  25779.747957                  NaN  \n",
       "min                     NaN   1067.000000                  NaN  \n",
       "25%                     NaN  30451.000000                  NaN  \n",
       "50%                     NaN  49577.000000                  NaN  \n",
       "75%                     NaN  71540.000000                  NaN  \n",
       "max                     NaN  99998.000000                  NaN  "
      ]
     },
     "execution_count": 6,
     "metadata": {},
     "output_type": "execute_result"
    }
   ],
   "source": [
    "autos.drop([\"seller\", \"offer_type\", \"picture_count\"], axis=1, inplace=True)\n",
    "\n",
    "autos[\"price\"] = (autos[\"price\"]\n",
    "                  .str.replace(\"$\", \"\", regex=False) # Suppress a warning about regex\n",
    "                  .str.replace(\",\", \"\")\n",
    "                  .astype(int))\n",
    "autos.rename(columns={\"price\": \"price_usd\"}, inplace=True)\n",
    "\n",
    "autos[\"odometer\"] = (autos[\"odometer\"]\n",
    "                     .str.replace(\"km\", \"\")\n",
    "                     .str.replace(\",\", \"\")\n",
    "                     .astype(int))\n",
    "autos.rename(columns={\"odometer\": \"odometer_km\"}, inplace=True)\n",
    "\n",
    "autos[\"unrepaired_damage\"] = (autos[\"unrepaired_damage\"]\n",
    "                            .str.replace(\"nein\", \"\") # Empty strings are falsy\n",
    "                            .astype(bool))\n",
    "\n",
    "autos.describe(include=\"all\")"
   ]
  },
  {
   "cell_type": "markdown",
   "id": "54984e58",
   "metadata": {},
   "source": [
    "### Cleaning bad values\n",
    "\n",
    "The column names and types have been cleaned up. Now, we want to translate some remaining values and identify anomalous data."
   ]
  },
  {
   "cell_type": "markdown",
   "id": "74f7974f",
   "metadata": {},
   "source": [
    "#### Price\n",
    "\n",
    "A price of 0 or null can be assumed faulty and removed before further pruning."
   ]
  },
  {
   "cell_type": "code",
   "execution_count": 7,
   "id": "aac91200",
   "metadata": {},
   "outputs": [
    {
     "data": {
      "text/plain": [
       "count    4.857900e+04\n",
       "mean     1.012788e+04\n",
       "std      4.880873e+05\n",
       "min      1.000000e+00\n",
       "25%      1.200000e+03\n",
       "50%      3.000000e+03\n",
       "75%      7.490000e+03\n",
       "max      1.000000e+08\n",
       "Name: price_usd, dtype: float64"
      ]
     },
     "execution_count": 7,
     "metadata": {},
     "output_type": "execute_result"
    }
   ],
   "source": [
    "autos = autos.loc[autos[\"price_usd\"] > 0 & ~autos[\"price_usd\"].isnull()]\n",
    "\n",
    "autos[\"price_usd\"].describe()"
   ]
  },
  {
   "cell_type": "markdown",
   "id": "8cb5c20c",
   "metadata": {},
   "source": [
    "Now, we can remove outlier prices."
   ]
  },
  {
   "cell_type": "code",
   "execution_count": 8,
   "id": "9eb0a981",
   "metadata": {},
   "outputs": [
    {
     "data": {
      "text/plain": [
       "0.10910064019432265"
      ]
     },
     "execution_count": 8,
     "metadata": {},
     "output_type": "execute_result"
    }
   ],
   "source": [
    "autos[autos[\"price_usd\"] > 100_000].shape[0] / autos.shape[0] * 100"
   ]
  },
  {
   "cell_type": "markdown",
   "id": "f1cd08fc",
   "metadata": {},
   "source": [
    "Only 0.1% of cars cost over \\$100,000. This seems like a good cutoff point to discard outliers."
   ]
  },
  {
   "cell_type": "code",
   "execution_count": 9,
   "id": "42cb6248",
   "metadata": {},
   "outputs": [
    {
     "data": {
      "text/plain": [
       "20.45945779040326"
      ]
     },
     "execution_count": 9,
     "metadata": {},
     "output_type": "execute_result"
    }
   ],
   "source": [
    "autos[autos[\"price_usd\"] < 1_000].shape[0] / autos.shape[0] * 100"
   ]
  },
  {
   "cell_type": "markdown",
   "id": "0bf6415c",
   "metadata": {},
   "source": [
    "While just over 20% of cars cost less than \\$1,000, these are not good candidates for analysis, as this category will be overwhelmingly composed of \"junkers\", cars being sold as repair projects or for scrap, which we are not concerned with."
   ]
  },
  {
   "cell_type": "code",
   "execution_count": 10,
   "id": "03f6f191",
   "metadata": {},
   "outputs": [
    {
     "data": {
      "text/plain": [
       "count    38587.000000\n",
       "mean      7089.045482\n",
       "std       7893.814349\n",
       "min       1000.000000\n",
       "25%       2200.000000\n",
       "50%       4300.000000\n",
       "75%       8950.000000\n",
       "max      99900.000000\n",
       "Name: price_usd, dtype: float64"
      ]
     },
     "execution_count": 10,
     "metadata": {},
     "output_type": "execute_result"
    }
   ],
   "source": [
    "autos = autos[autos[\"price_usd\"].between(1_000, 100_000)]\n",
    "autos[\"price_usd\"].describe()"
   ]
  },
  {
   "cell_type": "markdown",
   "id": "3c1b6e2f",
   "metadata": {},
   "source": [
    "Now, prices average about \\\\$7,000. The data is still somewhat skewed to the high end, with the 50\\% mark being only about \\$4,500, but this is a more accurate image than what we had before, and more likely to represent the actual distribution of prices."
   ]
  },
  {
   "cell_type": "markdown",
   "id": "345d7cb6",
   "metadata": {},
   "source": [
    "#### Odometer\n",
    "\n",
    "Next, we will examine the `odometer_km` column for anything unusual."
   ]
  },
  {
   "cell_type": "code",
   "execution_count": 11,
   "id": "60c850e5",
   "metadata": {},
   "outputs": [
    {
     "data": {
      "text/plain": [
       "count     38587.000000\n",
       "mean     122859.771426\n",
       "std       40712.638070\n",
       "min        5000.000000\n",
       "25%      100000.000000\n",
       "50%      150000.000000\n",
       "75%      150000.000000\n",
       "max      150000.000000\n",
       "Name: odometer_km, dtype: float64"
      ]
     },
     "execution_count": 11,
     "metadata": {},
     "output_type": "execute_result"
    }
   ],
   "source": [
    "autos[\"odometer_km\"].describe()"
   ]
  },
  {
   "cell_type": "markdown",
   "id": "301981c9",
   "metadata": {},
   "source": [
    "The odometer values seem normal. They range from 5,000 to 150,000. No action needs to be taken."
   ]
  },
  {
   "cell_type": "markdown",
   "id": "f5fe1ea3",
   "metadata": {},
   "source": [
    "#### Registration years"
   ]
  },
  {
   "cell_type": "code",
   "execution_count": 12,
   "id": "4d0ccc2e",
   "metadata": {},
   "outputs": [
    {
     "data": {
      "text/plain": [
       "8888    1\n",
       "1938    1\n",
       "2800    1\n",
       "1939    1\n",
       "5911    1\n",
       "1953    1\n",
       "1951    1\n",
       "1001    1\n",
       "2019    1\n",
       "9000    1\n",
       "Name: registration_year, dtype: int64"
      ]
     },
     "execution_count": 12,
     "metadata": {},
     "output_type": "execute_result"
    }
   ],
   "source": [
    "autos[\"registration_year\"].value_counts().sort_values(ascending=False).tail(10)"
   ]
  },
  {
   "cell_type": "code",
   "execution_count": 13,
   "id": "d898bcf3",
   "metadata": {},
   "outputs": [
    {
     "data": {
      "text/plain": [
       "2005    2785\n",
       "2006    2651\n",
       "2004    2608\n",
       "2003    2477\n",
       "2007    2258\n",
       "2008    2202\n",
       "2002    2135\n",
       "2009    2076\n",
       "2001    2064\n",
       "2000    2000\n",
       "Name: registration_year, dtype: int64"
      ]
     },
     "execution_count": 13,
     "metadata": {},
     "output_type": "execute_result"
    }
   ],
   "source": [
    "autos[\"registration_year\"].value_counts().sort_values(ascending=False).head(10)"
   ]
  },
  {
   "cell_type": "markdown",
   "id": "682979af",
   "metadata": {},
   "source": [
    "There are some very old cars for sale, but some of these use a year that is too low or high to be possible. The Model T started production in 1908, so any years before then would be good candidates, but we will check before deciding on a cutoff year to be conservative with potential historical cars."
   ]
  },
  {
   "cell_type": "code",
   "execution_count": 14,
   "id": "f3429d12",
   "metadata": {},
   "outputs": [
    {
     "data": {
      "text/html": [
       "<div>\n",
       "<style scoped>\n",
       "    .dataframe tbody tr th:only-of-type {\n",
       "        vertical-align: middle;\n",
       "    }\n",
       "\n",
       "    .dataframe tbody tr th {\n",
       "        vertical-align: top;\n",
       "    }\n",
       "\n",
       "    .dataframe thead th {\n",
       "        text-align: right;\n",
       "    }\n",
       "</style>\n",
       "<table border=\"1\" class=\"dataframe\">\n",
       "  <thead>\n",
       "    <tr style=\"text-align: right;\">\n",
       "      <th></th>\n",
       "      <th>ad_crawled</th>\n",
       "      <th>name</th>\n",
       "      <th>price_usd</th>\n",
       "      <th>ab_test</th>\n",
       "      <th>vehicle_type</th>\n",
       "      <th>registration_year</th>\n",
       "      <th>gearbox</th>\n",
       "      <th>power_ps</th>\n",
       "      <th>model</th>\n",
       "      <th>odometer_km</th>\n",
       "      <th>registration_month</th>\n",
       "      <th>fuel_type</th>\n",
       "      <th>brand</th>\n",
       "      <th>unrepaired_damage</th>\n",
       "      <th>ad_created</th>\n",
       "      <th>postal_code</th>\n",
       "      <th>last_seen</th>\n",
       "    </tr>\n",
       "  </thead>\n",
       "  <tbody>\n",
       "    <tr>\n",
       "      <th>21416</th>\n",
       "      <td>2016-03-12 08:36:21</td>\n",
       "      <td>Essex_super_six__Ford_A</td>\n",
       "      <td>16500</td>\n",
       "      <td>control</td>\n",
       "      <td>cabrio</td>\n",
       "      <td>1927</td>\n",
       "      <td>manuell</td>\n",
       "      <td>40</td>\n",
       "      <td>andere</td>\n",
       "      <td>5000</td>\n",
       "      <td>5</td>\n",
       "      <td>benzin</td>\n",
       "      <td>ford</td>\n",
       "      <td>True</td>\n",
       "      <td>2016-03-12 00:00:00</td>\n",
       "      <td>74821</td>\n",
       "      <td>2016-03-15 12:45:12</td>\n",
       "    </tr>\n",
       "    <tr>\n",
       "      <th>22101</th>\n",
       "      <td>2016-03-09 16:51:17</td>\n",
       "      <td>BMW_Andere</td>\n",
       "      <td>11500</td>\n",
       "      <td>test</td>\n",
       "      <td>cabrio</td>\n",
       "      <td>1929</td>\n",
       "      <td>manuell</td>\n",
       "      <td>15</td>\n",
       "      <td>andere</td>\n",
       "      <td>5000</td>\n",
       "      <td>1</td>\n",
       "      <td>NaN</td>\n",
       "      <td>bmw</td>\n",
       "      <td>True</td>\n",
       "      <td>2016-03-09 00:00:00</td>\n",
       "      <td>70569</td>\n",
       "      <td>2016-04-07 06:17:11</td>\n",
       "    </tr>\n",
       "  </tbody>\n",
       "</table>\n",
       "</div>"
      ],
      "text/plain": [
       "                ad_crawled                     name  price_usd  ab_test  \\\n",
       "21416  2016-03-12 08:36:21  Essex_super_six__Ford_A      16500  control   \n",
       "22101  2016-03-09 16:51:17               BMW_Andere      11500     test   \n",
       "\n",
       "      vehicle_type  registration_year  gearbox  power_ps   model  odometer_km  \\\n",
       "21416       cabrio               1927  manuell        40  andere         5000   \n",
       "22101       cabrio               1929  manuell        15  andere         5000   \n",
       "\n",
       "       registration_month fuel_type brand  unrepaired_damage  \\\n",
       "21416                   5    benzin  ford               True   \n",
       "22101                   1       NaN   bmw               True   \n",
       "\n",
       "                ad_created  postal_code            last_seen  \n",
       "21416  2016-03-12 00:00:00        74821  2016-03-15 12:45:12  \n",
       "22101  2016-03-09 00:00:00        70569  2016-04-07 06:17:11  "
      ]
     },
     "execution_count": 14,
     "metadata": {},
     "output_type": "execute_result"
    }
   ],
   "source": [
    "autos[autos[\"registration_year\"].between(1900, 1930)]"
   ]
  },
  {
   "cell_type": "markdown",
   "id": "68958516",
   "metadata": {},
   "source": [
    "We can see that the oldest car present with a reasonable year is an Essex Super Six from 1927. We will use this as our lower bound. The most recent ads in the data set are in 2016, so any years after that can be discarded."
   ]
  },
  {
   "cell_type": "code",
   "execution_count": 15,
   "id": "12663ac3",
   "metadata": {},
   "outputs": [
    {
     "data": {
      "text/plain": [
       "count    37167.000000\n",
       "mean      2003.967552\n",
       "std          7.008246\n",
       "min       1927.000000\n",
       "25%       2001.000000\n",
       "50%       2005.000000\n",
       "75%       2008.000000\n",
       "max       2016.000000\n",
       "Name: registration_year, dtype: float64"
      ]
     },
     "execution_count": 15,
     "metadata": {},
     "output_type": "execute_result"
    }
   ],
   "source": [
    "autos = autos[autos[\"registration_year\"].between(1927, 2016)]\n",
    "autos[\"registration_year\"].describe()"
   ]
  },
  {
   "cell_type": "markdown",
   "id": "2f948e50",
   "metadata": {},
   "source": [
    "We can see now that the distribution tends heavily towards cars produced after 2001, with 75% of all cars being sold falling into this category. Only 25% of cars on sale have registration years between 1927 and 2000."
   ]
  },
  {
   "cell_type": "markdown",
   "id": "6db415b9",
   "metadata": {},
   "source": [
    "#### Model\n",
    "\n",
    "Some models are a null value. We will simply fill in with \"unknown\", as this information is not terribly important to our analysis, and discarding rows without a model would cut into relevant data."
   ]
  },
  {
   "cell_type": "code",
   "execution_count": 16,
   "id": "af95acde",
   "metadata": {},
   "outputs": [
    {
     "data": {
      "text/plain": [
       "golf          2918\n",
       "andere        2665\n",
       "3er           2285\n",
       "unknown       1429\n",
       "passat        1152\n",
       "              ... \n",
       "rangerover       1\n",
       "200              1\n",
       "b_max            1\n",
       "samara           1\n",
       "lanos            1\n",
       "Name: model, Length: 242, dtype: int64"
      ]
     },
     "execution_count": 16,
     "metadata": {},
     "output_type": "execute_result"
    }
   ],
   "source": [
    "autos[\"model\"].fillna(\"unknown\", inplace=True)\n",
    "autos[\"model\"].value_counts()"
   ]
  },
  {
   "cell_type": "markdown",
   "id": "0c011905",
   "metadata": {},
   "source": [
    "### Translating from German to English\n",
    "\n",
    "The `vehicle_type`, `gearbox`, and `fuel_type` columns are currently in German. We will translate the values to make more sense of them."
   ]
  },
  {
   "cell_type": "markdown",
   "id": "2ddf44e9",
   "metadata": {},
   "source": [
    "#### Vehicle type\n",
    "\n",
    "First, we will translate `vehicle_type`. This column contains some null values, which we will simply set to \"other\"."
   ]
  },
  {
   "cell_type": "code",
   "execution_count": 17,
   "id": "7f3fb59c",
   "metadata": {},
   "outputs": [
    {
     "data": {
      "text/plain": [
       "array(['bus', 'limousine', 'kleinwagen', 'kombi', 'coupe', 'suv',\n",
       "       'cabrio', 'other', 'andere'], dtype=object)"
      ]
     },
     "execution_count": 17,
     "metadata": {},
     "output_type": "execute_result"
    }
   ],
   "source": [
    "autos[\"vehicle_type\"].fillna(\"other\", inplace=True)\n",
    "autos[\"vehicle_type\"].unique()"
   ]
  },
  {
   "cell_type": "code",
   "execution_count": 18,
   "id": "c98edc1d",
   "metadata": {},
   "outputs": [
    {
     "data": {
      "text/plain": [
       "limousine       10544\n",
       "stationwagon     7532\n",
       "sedan            6844\n",
       "bus              3704\n",
       "convertible      2840\n",
       "coupe            2153\n",
       "suv              1916\n",
       "other            1634\n",
       "Name: vehicle_type, dtype: int64"
      ]
     },
     "execution_count": 18,
     "metadata": {},
     "output_type": "execute_result"
    }
   ],
   "source": [
    "translate_vehicle_type = {\n",
    "    \"kleinwagen\": \"sedan\",\n",
    "    \"kombi\": \"stationwagon\",\n",
    "    \"cabrio\": \"convertible\",\n",
    "    \"andere\": \"other\",\n",
    "}\n",
    "autos[\"vehicle_type\"].replace(translate_vehicle_type, inplace=True)\n",
    "autos[\"vehicle_type\"].value_counts()"
   ]
  },
  {
   "cell_type": "markdown",
   "id": "4b3995ed",
   "metadata": {},
   "source": [
    "#### Gearbox\n",
    "\n",
    "Next, we will translate the `gearbox` column to use \"manual\" and \"automatic\", and fill in null values with \"unknown\"."
   ]
  },
  {
   "cell_type": "code",
   "execution_count": 19,
   "id": "d84e8d13",
   "metadata": {},
   "outputs": [
    {
     "data": {
      "text/plain": [
       "array(['manuell', 'automatik', 'unknown'], dtype=object)"
      ]
     },
     "execution_count": 19,
     "metadata": {},
     "output_type": "execute_result"
    }
   ],
   "source": [
    "autos[\"gearbox\"].fillna(\"unknown\", inplace=True)\n",
    "autos[\"gearbox\"].unique()"
   ]
  },
  {
   "cell_type": "code",
   "execution_count": 20,
   "id": "bdcb689d",
   "metadata": {},
   "outputs": [
    {
     "data": {
      "text/plain": [
       "manual       0.720316\n",
       "automatic    0.245487\n",
       "unknown      0.034197\n",
       "Name: gearbox, dtype: float64"
      ]
     },
     "execution_count": 20,
     "metadata": {},
     "output_type": "execute_result"
    }
   ],
   "source": [
    "translate_gearbox = {\n",
    "    \"manuell\": \"manual\",\n",
    "    \"automatik\": \"automatic\",\n",
    "}\n",
    "\n",
    "autos[\"gearbox\"].replace(translate_gearbox, inplace=True)\n",
    "autos[\"gearbox\"].value_counts(normalize=True)"
   ]
  },
  {
   "cell_type": "markdown",
   "id": "3d4feaed",
   "metadata": {},
   "source": [
    "This data lines up with trends in the European car market. While automatic transmissions become a larger majority year over year in America, manual transmissions remain the dominant transmission type in Europe, with 72% of the cars in this dataset using a manual transmission."
   ]
  },
  {
   "cell_type": "markdown",
   "id": "dfc75498",
   "metadata": {},
   "source": [
    "#### Fuel type\n",
    "\n",
    "The fuel types must also be translated. Though \"benzin\" translates directly to \"petrol\", we will use the american \"gasoline\". We will also unroll acronyms for clarity."
   ]
  },
  {
   "cell_type": "code",
   "execution_count": 21,
   "id": "ac4c3fa3",
   "metadata": {},
   "outputs": [
    {
     "data": {
      "text/plain": [
       "benzin     21302\n",
       "diesel     13354\n",
       "unknown     1833\n",
       "lpg          560\n",
       "cng           59\n",
       "hybrid        37\n",
       "elektro       15\n",
       "andere         7\n",
       "Name: fuel_type, dtype: int64"
      ]
     },
     "execution_count": 21,
     "metadata": {},
     "output_type": "execute_result"
    }
   ],
   "source": [
    "autos[\"fuel_type\"].fillna(\"unknown\", inplace=True)\n",
    "autos[\"fuel_type\"].value_counts()"
   ]
  },
  {
   "cell_type": "code",
   "execution_count": 22,
   "id": "f72e495b",
   "metadata": {},
   "outputs": [
    {
     "data": {
      "text/plain": [
       "gasoline                  21302\n",
       "diesel                    13354\n",
       "unknown                    1833\n",
       "liquid petroleum gas        560\n",
       "compressed natural gas       59\n",
       "hybrid                       37\n",
       "electric                     15\n",
       "other                         7\n",
       "Name: fuel_type, dtype: int64"
      ]
     },
     "execution_count": 22,
     "metadata": {},
     "output_type": "execute_result"
    }
   ],
   "source": [
    "translate_fuel_type = {\n",
    "    \"benzin\": \"gasoline\",\n",
    "    \"lpg\": \"liquid petroleum gas\",\n",
    "    \"cng\": \"compressed natural gas\",\n",
    "    \"elektro\": \"electric\",\n",
    "    \"andere\": \"other\",\n",
    "}\n",
    "\n",
    "autos[\"fuel_type\"].replace(translate_fuel_type, inplace=True)\n",
    "autos[\"fuel_type\"].value_counts()"
   ]
  },
  {
   "cell_type": "markdown",
   "id": "332d66bc",
   "metadata": {},
   "source": [
    "#### Model\n",
    "\n",
    "We have already filled null values in with \"unknown\", but \"andere\" is still present in the data set. We will translate this to \"other\"."
   ]
  },
  {
   "cell_type": "code",
   "execution_count": 23,
   "id": "d544f5de",
   "metadata": {},
   "outputs": [
    {
     "data": {
      "text/plain": [
       "golf          2918\n",
       "other         2665\n",
       "3er           2285\n",
       "unknown       1429\n",
       "passat        1152\n",
       "              ... \n",
       "rangerover       1\n",
       "200              1\n",
       "b_max            1\n",
       "samara           1\n",
       "lanos            1\n",
       "Name: model, Length: 242, dtype: int64"
      ]
     },
     "execution_count": 23,
     "metadata": {},
     "output_type": "execute_result"
    }
   ],
   "source": [
    "autos[\"model\"].replace({\"andere\": \"other\"}, inplace=True)\n",
    "autos[\"model\"].value_counts()"
   ]
  },
  {
   "cell_type": "code",
   "execution_count": 24,
   "id": "c3705e80",
   "metadata": {},
   "outputs": [
    {
     "name": "stdout",
     "output_type": "stream",
     "text": [
      "All null values have been removed\n"
     ]
    }
   ],
   "source": [
    "if all(autos[col].notnull().all() for col in autos):\n",
    "    print(\"All null values have been removed\")"
   ]
  },
  {
   "cell_type": "markdown",
   "id": "c340f2c4",
   "metadata": {},
   "source": [
    "We have eliminated all null values."
   ]
  },
  {
   "cell_type": "markdown",
   "id": "701b6508",
   "metadata": {},
   "source": [
    "## Analysis\n",
    "\n",
    "Now that the data has been sufficiently cleaned, we can begin analyzing it to draw conclusions."
   ]
  },
  {
   "cell_type": "markdown",
   "id": "334cf766",
   "metadata": {},
   "source": [
    "### Price by brand\n",
    "\n",
    "First, we will compare average prices by brand. We will only be comparing brands considered \"relevant\" - those which make up at least 5% of the dataset."
   ]
  },
  {
   "cell_type": "code",
   "execution_count": 25,
   "id": "3b8ee72e",
   "metadata": {},
   "outputs": [
    {
     "data": {
      "text/plain": [
       "['bmw', 'volkswagen', 'ford', 'audi', 'mercedes_benz', 'opel']"
      ]
     },
     "execution_count": 25,
     "metadata": {},
     "output_type": "execute_result"
    }
   ],
   "source": [
    "brand_pcts = autos.value_counts(\"brand\", normalize=True) * 100\n",
    "relevant_brands = [ brand\n",
    "                  for brand in autos[\"brand\"].unique()\n",
    "                  if brand_pcts[brand] > 5 ]\n",
    "\n",
    "relevant_brands"
   ]
  },
  {
   "cell_type": "markdown",
   "id": "aa05497c",
   "metadata": {},
   "source": [
    "We will establish a new table, `autos_rel`, containing only cars of these brands."
   ]
  },
  {
   "cell_type": "code",
   "execution_count": 26,
   "id": "a7e89985",
   "metadata": {},
   "outputs": [
    {
     "data": {
      "text/html": [
       "<div>\n",
       "<style scoped>\n",
       "    .dataframe tbody tr th:only-of-type {\n",
       "        vertical-align: middle;\n",
       "    }\n",
       "\n",
       "    .dataframe tbody tr th {\n",
       "        vertical-align: top;\n",
       "    }\n",
       "\n",
       "    .dataframe thead th {\n",
       "        text-align: right;\n",
       "    }\n",
       "</style>\n",
       "<table border=\"1\" class=\"dataframe\">\n",
       "  <thead>\n",
       "    <tr style=\"text-align: right;\">\n",
       "      <th></th>\n",
       "      <th>ad_crawled</th>\n",
       "      <th>name</th>\n",
       "      <th>price_usd</th>\n",
       "      <th>ab_test</th>\n",
       "      <th>vehicle_type</th>\n",
       "      <th>registration_year</th>\n",
       "      <th>gearbox</th>\n",
       "      <th>power_ps</th>\n",
       "      <th>model</th>\n",
       "      <th>odometer_km</th>\n",
       "      <th>registration_month</th>\n",
       "      <th>fuel_type</th>\n",
       "      <th>brand</th>\n",
       "      <th>unrepaired_damage</th>\n",
       "      <th>ad_created</th>\n",
       "      <th>postal_code</th>\n",
       "      <th>last_seen</th>\n",
       "    </tr>\n",
       "  </thead>\n",
       "  <tbody>\n",
       "    <tr>\n",
       "      <th>1</th>\n",
       "      <td>2016-04-04 13:38:56</td>\n",
       "      <td>BMW_740i_4_4_Liter_HAMANN_UMBAU_Mega_Optik</td>\n",
       "      <td>8500</td>\n",
       "      <td>control</td>\n",
       "      <td>limousine</td>\n",
       "      <td>1997</td>\n",
       "      <td>automatic</td>\n",
       "      <td>286</td>\n",
       "      <td>7er</td>\n",
       "      <td>150000</td>\n",
       "      <td>6</td>\n",
       "      <td>gasoline</td>\n",
       "      <td>bmw</td>\n",
       "      <td>False</td>\n",
       "      <td>2016-04-04 00:00:00</td>\n",
       "      <td>71034</td>\n",
       "      <td>2016-04-06 14:45:08</td>\n",
       "    </tr>\n",
       "    <tr>\n",
       "      <th>2</th>\n",
       "      <td>2016-03-26 18:57:24</td>\n",
       "      <td>Volkswagen_Golf_1.6_United</td>\n",
       "      <td>8990</td>\n",
       "      <td>test</td>\n",
       "      <td>limousine</td>\n",
       "      <td>2009</td>\n",
       "      <td>manual</td>\n",
       "      <td>102</td>\n",
       "      <td>golf</td>\n",
       "      <td>70000</td>\n",
       "      <td>7</td>\n",
       "      <td>gasoline</td>\n",
       "      <td>volkswagen</td>\n",
       "      <td>False</td>\n",
       "      <td>2016-03-26 00:00:00</td>\n",
       "      <td>35394</td>\n",
       "      <td>2016-04-06 20:15:37</td>\n",
       "    </tr>\n",
       "    <tr>\n",
       "      <th>4</th>\n",
       "      <td>2016-04-01 14:38:50</td>\n",
       "      <td>Ford_Focus_1_6_Benzin_TÜV_neu_ist_sehr_gepfleg...</td>\n",
       "      <td>1350</td>\n",
       "      <td>test</td>\n",
       "      <td>stationwagon</td>\n",
       "      <td>2003</td>\n",
       "      <td>manual</td>\n",
       "      <td>0</td>\n",
       "      <td>focus</td>\n",
       "      <td>150000</td>\n",
       "      <td>7</td>\n",
       "      <td>gasoline</td>\n",
       "      <td>ford</td>\n",
       "      <td>False</td>\n",
       "      <td>2016-04-01 00:00:00</td>\n",
       "      <td>39218</td>\n",
       "      <td>2016-04-01 14:38:50</td>\n",
       "    </tr>\n",
       "    <tr>\n",
       "      <th>7</th>\n",
       "      <td>2016-03-16 18:55:19</td>\n",
       "      <td>Golf_IV_1.9_TDI_90PS</td>\n",
       "      <td>1990</td>\n",
       "      <td>control</td>\n",
       "      <td>limousine</td>\n",
       "      <td>1998</td>\n",
       "      <td>manual</td>\n",
       "      <td>90</td>\n",
       "      <td>golf</td>\n",
       "      <td>150000</td>\n",
       "      <td>12</td>\n",
       "      <td>diesel</td>\n",
       "      <td>volkswagen</td>\n",
       "      <td>False</td>\n",
       "      <td>2016-03-16 00:00:00</td>\n",
       "      <td>53474</td>\n",
       "      <td>2016-04-07 03:17:32</td>\n",
       "    </tr>\n",
       "    <tr>\n",
       "      <th>13</th>\n",
       "      <td>2016-03-23 10:48:32</td>\n",
       "      <td>Audi_A3_1.6_tuning</td>\n",
       "      <td>1350</td>\n",
       "      <td>control</td>\n",
       "      <td>limousine</td>\n",
       "      <td>1999</td>\n",
       "      <td>manual</td>\n",
       "      <td>101</td>\n",
       "      <td>a3</td>\n",
       "      <td>150000</td>\n",
       "      <td>11</td>\n",
       "      <td>gasoline</td>\n",
       "      <td>audi</td>\n",
       "      <td>False</td>\n",
       "      <td>2016-03-23 00:00:00</td>\n",
       "      <td>12043</td>\n",
       "      <td>2016-04-01 14:17:13</td>\n",
       "    </tr>\n",
       "    <tr>\n",
       "      <th>...</th>\n",
       "      <td>...</td>\n",
       "      <td>...</td>\n",
       "      <td>...</td>\n",
       "      <td>...</td>\n",
       "      <td>...</td>\n",
       "      <td>...</td>\n",
       "      <td>...</td>\n",
       "      <td>...</td>\n",
       "      <td>...</td>\n",
       "      <td>...</td>\n",
       "      <td>...</td>\n",
       "      <td>...</td>\n",
       "      <td>...</td>\n",
       "      <td>...</td>\n",
       "      <td>...</td>\n",
       "      <td>...</td>\n",
       "      <td>...</td>\n",
       "    </tr>\n",
       "    <tr>\n",
       "      <th>49994</th>\n",
       "      <td>2016-03-22 17:36:42</td>\n",
       "      <td>Audi_A6__S6__Avant_4.2_quattro_eventuell_Tausc...</td>\n",
       "      <td>5000</td>\n",
       "      <td>control</td>\n",
       "      <td>stationwagon</td>\n",
       "      <td>2001</td>\n",
       "      <td>automatic</td>\n",
       "      <td>299</td>\n",
       "      <td>a6</td>\n",
       "      <td>150000</td>\n",
       "      <td>1</td>\n",
       "      <td>gasoline</td>\n",
       "      <td>audi</td>\n",
       "      <td>False</td>\n",
       "      <td>2016-03-22 00:00:00</td>\n",
       "      <td>46537</td>\n",
       "      <td>2016-04-06 08:16:39</td>\n",
       "    </tr>\n",
       "    <tr>\n",
       "      <th>49995</th>\n",
       "      <td>2016-03-27 14:38:19</td>\n",
       "      <td>Audi_Q5_3.0_TDI_qu._S_tr.__Navi__Panorama__Xenon</td>\n",
       "      <td>24900</td>\n",
       "      <td>control</td>\n",
       "      <td>limousine</td>\n",
       "      <td>2011</td>\n",
       "      <td>automatic</td>\n",
       "      <td>239</td>\n",
       "      <td>q5</td>\n",
       "      <td>100000</td>\n",
       "      <td>1</td>\n",
       "      <td>diesel</td>\n",
       "      <td>audi</td>\n",
       "      <td>False</td>\n",
       "      <td>2016-03-27 00:00:00</td>\n",
       "      <td>82131</td>\n",
       "      <td>2016-04-01 13:47:40</td>\n",
       "    </tr>\n",
       "    <tr>\n",
       "      <th>49996</th>\n",
       "      <td>2016-03-28 10:50:25</td>\n",
       "      <td>Opel_Astra_F_Cabrio_Bertone_Edition___TÜV_neu+...</td>\n",
       "      <td>1980</td>\n",
       "      <td>control</td>\n",
       "      <td>convertible</td>\n",
       "      <td>1996</td>\n",
       "      <td>manual</td>\n",
       "      <td>75</td>\n",
       "      <td>astra</td>\n",
       "      <td>150000</td>\n",
       "      <td>5</td>\n",
       "      <td>gasoline</td>\n",
       "      <td>opel</td>\n",
       "      <td>False</td>\n",
       "      <td>2016-03-28 00:00:00</td>\n",
       "      <td>44807</td>\n",
       "      <td>2016-04-02 14:18:02</td>\n",
       "    </tr>\n",
       "    <tr>\n",
       "      <th>49998</th>\n",
       "      <td>2016-03-08 19:25:42</td>\n",
       "      <td>Audi_A3_2.0_TDI_Sportback_Ambition</td>\n",
       "      <td>22900</td>\n",
       "      <td>control</td>\n",
       "      <td>stationwagon</td>\n",
       "      <td>2013</td>\n",
       "      <td>manual</td>\n",
       "      <td>150</td>\n",
       "      <td>a3</td>\n",
       "      <td>40000</td>\n",
       "      <td>11</td>\n",
       "      <td>diesel</td>\n",
       "      <td>audi</td>\n",
       "      <td>False</td>\n",
       "      <td>2016-03-08 00:00:00</td>\n",
       "      <td>35683</td>\n",
       "      <td>2016-04-05 16:45:07</td>\n",
       "    </tr>\n",
       "    <tr>\n",
       "      <th>49999</th>\n",
       "      <td>2016-03-14 00:42:12</td>\n",
       "      <td>Opel_Vectra_1.6_16V</td>\n",
       "      <td>1250</td>\n",
       "      <td>control</td>\n",
       "      <td>limousine</td>\n",
       "      <td>1996</td>\n",
       "      <td>manual</td>\n",
       "      <td>101</td>\n",
       "      <td>vectra</td>\n",
       "      <td>150000</td>\n",
       "      <td>1</td>\n",
       "      <td>gasoline</td>\n",
       "      <td>opel</td>\n",
       "      <td>False</td>\n",
       "      <td>2016-03-13 00:00:00</td>\n",
       "      <td>45897</td>\n",
       "      <td>2016-04-06 21:18:48</td>\n",
       "    </tr>\n",
       "  </tbody>\n",
       "</table>\n",
       "<p>25780 rows × 17 columns</p>\n",
       "</div>"
      ],
      "text/plain": [
       "                ad_crawled                                               name  \\\n",
       "1      2016-04-04 13:38:56         BMW_740i_4_4_Liter_HAMANN_UMBAU_Mega_Optik   \n",
       "2      2016-03-26 18:57:24                         Volkswagen_Golf_1.6_United   \n",
       "4      2016-04-01 14:38:50  Ford_Focus_1_6_Benzin_TÜV_neu_ist_sehr_gepfleg...   \n",
       "7      2016-03-16 18:55:19                               Golf_IV_1.9_TDI_90PS   \n",
       "13     2016-03-23 10:48:32                                 Audi_A3_1.6_tuning   \n",
       "...                    ...                                                ...   \n",
       "49994  2016-03-22 17:36:42  Audi_A6__S6__Avant_4.2_quattro_eventuell_Tausc...   \n",
       "49995  2016-03-27 14:38:19   Audi_Q5_3.0_TDI_qu._S_tr.__Navi__Panorama__Xenon   \n",
       "49996  2016-03-28 10:50:25  Opel_Astra_F_Cabrio_Bertone_Edition___TÜV_neu+...   \n",
       "49998  2016-03-08 19:25:42                 Audi_A3_2.0_TDI_Sportback_Ambition   \n",
       "49999  2016-03-14 00:42:12                                Opel_Vectra_1.6_16V   \n",
       "\n",
       "       price_usd  ab_test  vehicle_type  registration_year    gearbox  \\\n",
       "1           8500  control     limousine               1997  automatic   \n",
       "2           8990     test     limousine               2009     manual   \n",
       "4           1350     test  stationwagon               2003     manual   \n",
       "7           1990  control     limousine               1998     manual   \n",
       "13          1350  control     limousine               1999     manual   \n",
       "...          ...      ...           ...                ...        ...   \n",
       "49994       5000  control  stationwagon               2001  automatic   \n",
       "49995      24900  control     limousine               2011  automatic   \n",
       "49996       1980  control   convertible               1996     manual   \n",
       "49998      22900  control  stationwagon               2013     manual   \n",
       "49999       1250  control     limousine               1996     manual   \n",
       "\n",
       "       power_ps   model  odometer_km  registration_month fuel_type  \\\n",
       "1           286     7er       150000                   6  gasoline   \n",
       "2           102    golf        70000                   7  gasoline   \n",
       "4             0   focus       150000                   7  gasoline   \n",
       "7            90    golf       150000                  12    diesel   \n",
       "13          101      a3       150000                  11  gasoline   \n",
       "...         ...     ...          ...                 ...       ...   \n",
       "49994       299      a6       150000                   1  gasoline   \n",
       "49995       239      q5       100000                   1    diesel   \n",
       "49996        75   astra       150000                   5  gasoline   \n",
       "49998       150      a3        40000                  11    diesel   \n",
       "49999       101  vectra       150000                   1  gasoline   \n",
       "\n",
       "            brand  unrepaired_damage           ad_created  postal_code  \\\n",
       "1             bmw              False  2016-04-04 00:00:00        71034   \n",
       "2      volkswagen              False  2016-03-26 00:00:00        35394   \n",
       "4            ford              False  2016-04-01 00:00:00        39218   \n",
       "7      volkswagen              False  2016-03-16 00:00:00        53474   \n",
       "13           audi              False  2016-03-23 00:00:00        12043   \n",
       "...           ...                ...                  ...          ...   \n",
       "49994        audi              False  2016-03-22 00:00:00        46537   \n",
       "49995        audi              False  2016-03-27 00:00:00        82131   \n",
       "49996        opel              False  2016-03-28 00:00:00        44807   \n",
       "49998        audi              False  2016-03-08 00:00:00        35683   \n",
       "49999        opel              False  2016-03-13 00:00:00        45897   \n",
       "\n",
       "                 last_seen  \n",
       "1      2016-04-06 14:45:08  \n",
       "2      2016-04-06 20:15:37  \n",
       "4      2016-04-01 14:38:50  \n",
       "7      2016-04-07 03:17:32  \n",
       "13     2016-04-01 14:17:13  \n",
       "...                    ...  \n",
       "49994  2016-04-06 08:16:39  \n",
       "49995  2016-04-01 13:47:40  \n",
       "49996  2016-04-02 14:18:02  \n",
       "49998  2016-04-05 16:45:07  \n",
       "49999  2016-04-06 21:18:48  \n",
       "\n",
       "[25780 rows x 17 columns]"
      ]
     },
     "execution_count": 26,
     "metadata": {},
     "output_type": "execute_result"
    }
   ],
   "source": [
    "autos_rel = autos[autos[\"brand\"].isin(relevant_brands)]\n",
    "autos_rel"
   ]
  },
  {
   "cell_type": "code",
   "execution_count": 27,
   "id": "3bd118af",
   "metadata": {},
   "outputs": [
    {
     "data": {
      "text/plain": [
       "bmw               8975.103840\n",
       "volkswagen        6645.132602\n",
       "ford              5274.369217\n",
       "audi             10276.903581\n",
       "mercedes_benz     9196.060738\n",
       "opel              4219.954737\n",
       "dtype: float64"
      ]
     },
     "execution_count": 27,
     "metadata": {},
     "output_type": "execute_result"
    }
   ],
   "source": [
    "mean_brand_price = pd.Series(\n",
    "    { brand: (autos_rel[autos_rel[\"brand\"] == brand]\n",
    "        [\"price_usd\"].mean())\n",
    "    for brand in autos_rel[\"brand\"].unique() }\n",
    ")\n",
    "\n",
    "mean_brand_price"
   ]
  },
  {
   "cell_type": "markdown",
   "id": "38811282",
   "metadata": {},
   "source": [
    "As we can see from the collection of mean brand prices:\n",
    "\n",
    "* Audi, BMW, and Mercedes-Benz are the most expensive.\n",
    "* Volkswagen is mid-priced\n",
    "* Ford and Opel are less expensive."
   ]
  },
  {
   "cell_type": "markdown",
   "id": "b7a99c73",
   "metadata": {},
   "source": [
    "We can now convert out mean brand price series into a dataframe to collect more brand information."
   ]
  },
  {
   "cell_type": "code",
   "execution_count": 28,
   "id": "3ba78993",
   "metadata": {},
   "outputs": [
    {
     "data": {
      "text/html": [
       "<div>\n",
       "<style scoped>\n",
       "    .dataframe tbody tr th:only-of-type {\n",
       "        vertical-align: middle;\n",
       "    }\n",
       "\n",
       "    .dataframe tbody tr th {\n",
       "        vertical-align: top;\n",
       "    }\n",
       "\n",
       "    .dataframe thead th {\n",
       "        text-align: right;\n",
       "    }\n",
       "</style>\n",
       "<table border=\"1\" class=\"dataframe\">\n",
       "  <thead>\n",
       "    <tr style=\"text-align: right;\">\n",
       "      <th></th>\n",
       "      <th>mean_price</th>\n",
       "    </tr>\n",
       "  </thead>\n",
       "  <tbody>\n",
       "    <tr>\n",
       "      <th>bmw</th>\n",
       "      <td>8975.103840</td>\n",
       "    </tr>\n",
       "    <tr>\n",
       "      <th>volkswagen</th>\n",
       "      <td>6645.132602</td>\n",
       "    </tr>\n",
       "    <tr>\n",
       "      <th>ford</th>\n",
       "      <td>5274.369217</td>\n",
       "    </tr>\n",
       "    <tr>\n",
       "      <th>audi</th>\n",
       "      <td>10276.903581</td>\n",
       "    </tr>\n",
       "    <tr>\n",
       "      <th>mercedes_benz</th>\n",
       "      <td>9196.060738</td>\n",
       "    </tr>\n",
       "    <tr>\n",
       "      <th>opel</th>\n",
       "      <td>4219.954737</td>\n",
       "    </tr>\n",
       "  </tbody>\n",
       "</table>\n",
       "</div>"
      ],
      "text/plain": [
       "                 mean_price\n",
       "bmw             8975.103840\n",
       "volkswagen      6645.132602\n",
       "ford            5274.369217\n",
       "audi           10276.903581\n",
       "mercedes_benz   9196.060738\n",
       "opel            4219.954737"
      ]
     },
     "execution_count": 28,
     "metadata": {},
     "output_type": "execute_result"
    }
   ],
   "source": [
    "brands = pd.DataFrame(mean_brand_price, columns=[\"mean_price\"])\n",
    "brands"
   ]
  },
  {
   "cell_type": "code",
   "execution_count": 29,
   "id": "b0e0449e",
   "metadata": {},
   "outputs": [
    {
     "data": {
      "text/plain": [
       "9482.689386390644"
      ]
     },
     "execution_count": 29,
     "metadata": {},
     "output_type": "execute_result"
    }
   ],
   "source": [
    "high_end = [ \"audi\", \"mercedes_benz\", \"bmw\" ]\n",
    "high_end_mean_price = brands.loc[high_end, \"mean_price\"].mean()\n",
    "\n",
    "high_end_mean_price"
   ]
  },
  {
   "cell_type": "code",
   "execution_count": 30,
   "id": "04084ad4",
   "metadata": {},
   "outputs": [
    {
     "data": {
      "text/plain": [
       "4747.161977075835"
      ]
     },
     "execution_count": 30,
     "metadata": {},
     "output_type": "execute_result"
    }
   ],
   "source": [
    "low_end = [ \"ford\", \"opel\" ]\n",
    "low_end_mean_price = brands.loc[low_end, \"mean_price\"].mean()\n",
    "\n",
    "low_end_mean_price"
   ]
  },
  {
   "cell_type": "code",
   "execution_count": 31,
   "id": "da9086c6",
   "metadata": {},
   "outputs": [
    {
     "data": {
      "text/plain": [
       "50.061346350634054"
      ]
     },
     "execution_count": 31,
     "metadata": {},
     "output_type": "execute_result"
    }
   ],
   "source": [
    "low_end_mean_price / high_end_mean_price * 100"
   ]
  },
  {
   "cell_type": "markdown",
   "id": "bdef907a",
   "metadata": {},
   "source": [
    "If we again average the high-end cars and low-end cars as groups, we find that the average low-end car costs half as much as the average high-end car."
   ]
  },
  {
   "cell_type": "markdown",
   "id": "3a52f1ca",
   "metadata": {},
   "source": [
    "### Mileage by brand\n",
    "\n",
    "Next, we will examine if the mean mileage of cars differs by brand."
   ]
  },
  {
   "cell_type": "code",
   "execution_count": 32,
   "id": "62476c81",
   "metadata": {},
   "outputs": [
    {
     "data": {
      "text/plain": [
       "bmw              132068.225703\n",
       "volkswagen       125765.650899\n",
       "ford             119651.855245\n",
       "audi             127524.793388\n",
       "mercedes_benz    130130.151844\n",
       "opel             123952.926976\n",
       "Name: mean_odometer_km, dtype: float64"
      ]
     },
     "execution_count": 32,
     "metadata": {},
     "output_type": "execute_result"
    }
   ],
   "source": [
    "brands[\"mean_odometer_km\"] = pd.Series(\n",
    "    { brand: (autos_rel.loc[autos_rel[\"brand\"] == brand]\n",
    "        [\"odometer_km\"].mean())\n",
    "     for brand in brands.index.values }\n",
    ")\n",
    "\n",
    "brands[\"mean_odometer_km\"]"
   ]
  },
  {
   "cell_type": "markdown",
   "id": "1892238c",
   "metadata": {},
   "source": [
    "The variation in odometer kilometers by brand is slight, but there is a pattern of higher-end cars being sold with higher mileage, and lower-end cars being sold with lower mileage."
   ]
  },
  {
   "cell_type": "markdown",
   "id": "a93bc479",
   "metadata": {},
   "source": [
    "### Most common model by brand\n",
    "\n",
    "We can also check what model is most common for each brand and rename some to be more clear."
   ]
  },
  {
   "cell_type": "code",
   "execution_count": 33,
   "id": "fce7c4a3",
   "metadata": {},
   "outputs": [
    {
     "data": {
      "text/plain": [
       "bmw              3_series\n",
       "volkswagen           golf\n",
       "ford                focus\n",
       "audi                   a4\n",
       "mercedes_benz     c_class\n",
       "opel                astra\n",
       "Name: top_model, dtype: object"
      ]
     },
     "execution_count": 33,
     "metadata": {},
     "output_type": "execute_result"
    }
   ],
   "source": [
    "brands[\"top_model\"] = pd.Series(\n",
    "    { brand: (autos_rel.loc[autos_rel[\"brand\"] == brand]\n",
    "        [\"model\"].mode()[0])\n",
    "    for brand in brands.index.values }\n",
    ")\n",
    "\n",
    "model_rename = {\n",
    "    \"c_klasse\": \"c_class\",\n",
    "    \"3er\": \"3_series\",\n",
    "}\n",
    "brands[\"top_model\"].replace(model_rename, inplace=True)\n",
    "\n",
    "brands[\"top_model\"]"
   ]
  },
  {
   "cell_type": "markdown",
   "id": "15780b94",
   "metadata": {},
   "source": [
    "### Most common vehicle type by brand\n",
    "\n",
    "With the most common model identified, we will next find the most common vehicle type for each brand."
   ]
  },
  {
   "cell_type": "code",
   "execution_count": 34,
   "id": "72eb7e58",
   "metadata": {},
   "outputs": [
    {
     "data": {
      "text/plain": [
       "bmw                 limousine\n",
       "volkswagen          limousine\n",
       "ford                    sedan\n",
       "audi             stationwagon\n",
       "mercedes_benz       limousine\n",
       "opel                    sedan\n",
       "Name: top_vehicle_type, dtype: object"
      ]
     },
     "execution_count": 34,
     "metadata": {},
     "output_type": "execute_result"
    }
   ],
   "source": [
    "brands[\"top_vehicle_type\"] = pd.Series(\n",
    "    { brand: (autos_rel.loc[autos_rel[\"brand\"] == brand]\n",
    "        [\"vehicle_type\"].mode()[0])\n",
    "    for brand in brands.index.values }\n",
    ")\n",
    "\n",
    "brands[\"top_vehicle_type\"]"
   ]
  },
  {
   "cell_type": "markdown",
   "id": "d23e7db4",
   "metadata": {},
   "source": [
    "We "
   ]
  },
  {
   "cell_type": "markdown",
   "id": "74ec2cff",
   "metadata": {},
   "source": [
    "### Percent of manual transmissions per brand\n",
    "\n",
    "We already know that 75% of the car listings are for manuals, but we would also like to know how the distribution breaks down by brand."
   ]
  },
  {
   "cell_type": "code",
   "execution_count": 35,
   "id": "d2bb37fd",
   "metadata": {},
   "outputs": [
    {
     "data": {
      "text/plain": [
       "bmw              62.046771\n",
       "volkswagen       80.836415\n",
       "ford             87.081997\n",
       "audi             61.515152\n",
       "mercedes_benz    40.009641\n",
       "opel             85.455643\n",
       "Name: pct_manual, dtype: float64"
      ]
     },
     "execution_count": 35,
     "metadata": {},
     "output_type": "execute_result"
    }
   ],
   "source": [
    "brands[\"pct_manual\"] = pd.Series(\n",
    "    { brand: (autos_rel.loc[autos_rel[\"brand\"] == brand]\n",
    "        [\"gearbox\"].value_counts(normalize=True)\n",
    "        .sort_index()[1] * 100)\n",
    "    for brand in brands.index.values }\n",
    ")\n",
    "\n",
    "brands[\"pct_manual\"]"
   ]
  },
  {
   "cell_type": "markdown",
   "id": "dbad00ed",
   "metadata": {},
   "source": [
    "A clear pattern emerges: higher-end cars are more likely to be automatic, with lower-end cars being more likely to be manual. This could be because the abundance of manual transmissions in Europe causes automatics to be more rare, and thus more valuable, causing a higher-end car to be more \"worth\" the extra cost of an automatic transmission.\n",
    "\n",
    "Notably, Mercedez-Benz cars are significantly more likely to be automatic, despite not being as expensive as Audis on average. This is likely a simple difference in brand priorities, with Mercedez-Benz emphasizing the \"luxury\" of an automatic."
   ]
  },
  {
   "cell_type": "markdown",
   "id": "43f1f700",
   "metadata": {},
   "source": [
    "### Average price based on unrepaired damage\n",
    "\n",
    "We are interested in learning how much unrepaired damage affects the price of a vehicle by brand."
   ]
  },
  {
   "cell_type": "code",
   "execution_count": 36,
   "id": "93a0b6da",
   "metadata": {},
   "outputs": [
    {
     "data": {
      "text/plain": [
       "bmw              5747.610738\n",
       "volkswagen       4190.473401\n",
       "ford             3574.842920\n",
       "audi             5753.237500\n",
       "mercedes_benz    5735.743405\n",
       "opel             2951.419492\n",
       "Name: mean_price_damaged, dtype: float64"
      ]
     },
     "execution_count": 36,
     "metadata": {},
     "output_type": "execute_result"
    }
   ],
   "source": [
    "brands[\"mean_price_damaged\"] = pd.Series(\n",
    "    { brand: (autos_rel.loc[(autos_rel[\"brand\"] == brand)\n",
    "            & (autos_rel[\"unrepaired_damage\"])]\n",
    "        [\"price_usd\"].mean())\n",
    "    for brand in brands.index.values }\n",
    ")\n",
    "\n",
    "brands[\"mean_price_damaged\"]"
   ]
  },
  {
   "cell_type": "code",
   "execution_count": 37,
   "id": "2c3ac319",
   "metadata": {},
   "outputs": [
    {
     "data": {
      "text/plain": [
       "bmw               9741.065835\n",
       "volkswagen        7310.715235\n",
       "ford              5718.150780\n",
       "audi             11396.161168\n",
       "mercedes_benz    10066.620211\n",
       "opel              4564.591328\n",
       "Name: mean_price_undamaged, dtype: float64"
      ]
     },
     "execution_count": 37,
     "metadata": {},
     "output_type": "execute_result"
    }
   ],
   "source": [
    "brands[\"mean_price_undamaged\"] = pd.Series(\n",
    "    { brand: (autos_rel.loc[(autos_rel[\"brand\"] == brand)\n",
    "            & (~autos_rel[\"unrepaired_damage\"])]\n",
    "        [\"price_usd\"].mean())\n",
    "    for brand in brands.index.values }\n",
    ")\n",
    "\n",
    "brands[\"mean_price_undamaged\"]"
   ]
  },
  {
   "cell_type": "code",
   "execution_count": 38,
   "id": "25e8a2eb",
   "metadata": {},
   "outputs": [
    {
     "data": {
      "text/plain": [
       "bmw              59.003920\n",
       "volkswagen       57.319609\n",
       "ford             62.517465\n",
       "audi             50.483996\n",
       "mercedes_benz    56.977846\n",
       "opel             64.659008\n",
       "Name: damaged_price_pct, dtype: float64"
      ]
     },
     "execution_count": 38,
     "metadata": {},
     "output_type": "execute_result"
    }
   ],
   "source": [
    "brands[\"damaged_price_pct\"] = (brands[\"mean_price_damaged\"]\n",
    "                                / brands[\"mean_price_undamaged\"]\n",
    "                                * 100)\n",
    "\n",
    "brands[\"damaged_price_pct\"]"
   ]
  },
  {
   "cell_type": "markdown",
   "id": "ce01b793",
   "metadata": {},
   "source": [
    "Again, a clear pattern based on the brand emerges: More expensive cars lose more value from having unrepaired damage, with Audis retaining only 50% value compared to Fords retaining 62% value. This makes sense because more expensive cars are typically more expensive to repair, and less expensive cars are often built to be more durable and can withstand some damage. A high-end car also loses some of its desirability if it is damaged."
   ]
  },
  {
   "cell_type": "markdown",
   "id": "96e6fd18",
   "metadata": {},
   "source": [
    "### Overview by brand\n",
    "\n",
    "We will now take a broad review our brand analysis."
   ]
  },
  {
   "cell_type": "code",
   "execution_count": 39,
   "id": "b9a5c3e2",
   "metadata": {},
   "outputs": [
    {
     "data": {
      "text/html": [
       "<div>\n",
       "<style scoped>\n",
       "    .dataframe tbody tr th:only-of-type {\n",
       "        vertical-align: middle;\n",
       "    }\n",
       "\n",
       "    .dataframe tbody tr th {\n",
       "        vertical-align: top;\n",
       "    }\n",
       "\n",
       "    .dataframe thead th {\n",
       "        text-align: right;\n",
       "    }\n",
       "</style>\n",
       "<table border=\"1\" class=\"dataframe\">\n",
       "  <thead>\n",
       "    <tr style=\"text-align: right;\">\n",
       "      <th></th>\n",
       "      <th>mean_price</th>\n",
       "      <th>mean_odometer_km</th>\n",
       "      <th>top_model</th>\n",
       "      <th>top_vehicle_type</th>\n",
       "      <th>pct_manual</th>\n",
       "      <th>mean_price_damaged</th>\n",
       "      <th>mean_price_undamaged</th>\n",
       "      <th>damaged_price_pct</th>\n",
       "    </tr>\n",
       "  </thead>\n",
       "  <tbody>\n",
       "    <tr>\n",
       "      <th>bmw</th>\n",
       "      <td>8975.103840</td>\n",
       "      <td>132068.225703</td>\n",
       "      <td>3_series</td>\n",
       "      <td>limousine</td>\n",
       "      <td>62.046771</td>\n",
       "      <td>5747.610738</td>\n",
       "      <td>9741.065835</td>\n",
       "      <td>59.003920</td>\n",
       "    </tr>\n",
       "    <tr>\n",
       "      <th>volkswagen</th>\n",
       "      <td>6645.132602</td>\n",
       "      <td>125765.650899</td>\n",
       "      <td>golf</td>\n",
       "      <td>limousine</td>\n",
       "      <td>80.836415</td>\n",
       "      <td>4190.473401</td>\n",
       "      <td>7310.715235</td>\n",
       "      <td>57.319609</td>\n",
       "    </tr>\n",
       "    <tr>\n",
       "      <th>ford</th>\n",
       "      <td>5274.369217</td>\n",
       "      <td>119651.855245</td>\n",
       "      <td>focus</td>\n",
       "      <td>sedan</td>\n",
       "      <td>87.081997</td>\n",
       "      <td>3574.842920</td>\n",
       "      <td>5718.150780</td>\n",
       "      <td>62.517465</td>\n",
       "    </tr>\n",
       "    <tr>\n",
       "      <th>audi</th>\n",
       "      <td>10276.903581</td>\n",
       "      <td>127524.793388</td>\n",
       "      <td>a4</td>\n",
       "      <td>stationwagon</td>\n",
       "      <td>61.515152</td>\n",
       "      <td>5753.237500</td>\n",
       "      <td>11396.161168</td>\n",
       "      <td>50.483996</td>\n",
       "    </tr>\n",
       "    <tr>\n",
       "      <th>mercedes_benz</th>\n",
       "      <td>9196.060738</td>\n",
       "      <td>130130.151844</td>\n",
       "      <td>c_class</td>\n",
       "      <td>limousine</td>\n",
       "      <td>40.009641</td>\n",
       "      <td>5735.743405</td>\n",
       "      <td>10066.620211</td>\n",
       "      <td>56.977846</td>\n",
       "    </tr>\n",
       "    <tr>\n",
       "      <th>opel</th>\n",
       "      <td>4219.954737</td>\n",
       "      <td>123952.926976</td>\n",
       "      <td>astra</td>\n",
       "      <td>sedan</td>\n",
       "      <td>85.455643</td>\n",
       "      <td>2951.419492</td>\n",
       "      <td>4564.591328</td>\n",
       "      <td>64.659008</td>\n",
       "    </tr>\n",
       "  </tbody>\n",
       "</table>\n",
       "</div>"
      ],
      "text/plain": [
       "                 mean_price  mean_odometer_km top_model top_vehicle_type  \\\n",
       "bmw             8975.103840     132068.225703  3_series        limousine   \n",
       "volkswagen      6645.132602     125765.650899      golf        limousine   \n",
       "ford            5274.369217     119651.855245     focus            sedan   \n",
       "audi           10276.903581     127524.793388        a4     stationwagon   \n",
       "mercedes_benz   9196.060738     130130.151844   c_class        limousine   \n",
       "opel            4219.954737     123952.926976     astra            sedan   \n",
       "\n",
       "               pct_manual  mean_price_damaged  mean_price_undamaged  \\\n",
       "bmw             62.046771         5747.610738           9741.065835   \n",
       "volkswagen      80.836415         4190.473401           7310.715235   \n",
       "ford            87.081997         3574.842920           5718.150780   \n",
       "audi            61.515152         5753.237500          11396.161168   \n",
       "mercedes_benz   40.009641         5735.743405          10066.620211   \n",
       "opel            85.455643         2951.419492           4564.591328   \n",
       "\n",
       "               damaged_price_pct  \n",
       "bmw                    59.003920  \n",
       "volkswagen             57.319609  \n",
       "ford                   62.517465  \n",
       "audi                   50.483996  \n",
       "mercedes_benz          56.977846  \n",
       "opel                   64.659008  "
      ]
     },
     "execution_count": 39,
     "metadata": {},
     "output_type": "execute_result"
    }
   ],
   "source": [
    "brands"
   ]
  },
  {
   "cell_type": "markdown",
   "id": "f3ef97f2",
   "metadata": {},
   "source": [
    "As car brands become more expensive, they:\n",
    "\n",
    "* Increase in average mileage.\n",
    "* Increase in likelihood of being an automatic transmission.\n",
    "* Increase in value lost from unrepaired damage.\n",
    "* Tend to be limousines instead of sedans."
   ]
  },
  {
   "cell_type": "markdown",
   "id": "1aaf000f",
   "metadata": {},
   "source": [
    "## Clean dataset files\n",
    "\n",
    "The cleaned `autos` and `autos_rel` tables are available in `datasets/`, as created below."
   ]
  },
  {
   "cell_type": "code",
   "execution_count": 40,
   "id": "bb5fd3f5",
   "metadata": {},
   "outputs": [],
   "source": [
    "autos.to_csv(\"datasets/autos_cleaned.csv\")\n",
    "autos.to_csv(\"datasets/autos_rel.csv\")"
   ]
  }
 ],
 "metadata": {
  "kernelspec": {
   "display_name": "Python 3 (ipykernel)",
   "language": "python",
   "name": "python3"
  },
  "language_info": {
   "codemirror_mode": {
    "name": "ipython",
    "version": 3
   },
   "file_extension": ".py",
   "mimetype": "text/x-python",
   "name": "python",
   "nbconvert_exporter": "python",
   "pygments_lexer": "ipython3",
   "version": "3.8.10"
  }
 },
 "nbformat": 4,
 "nbformat_minor": 5
}
