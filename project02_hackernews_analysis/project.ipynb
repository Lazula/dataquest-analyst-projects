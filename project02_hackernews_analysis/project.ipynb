{
 "cells": [
  {
   "cell_type": "markdown",
   "id": "7a0366e3",
   "metadata": {},
   "source": [
    "# Analyzing Hacker News Post Interaction\n",
    "\n",
    "Our goal is to see what kinds of Hacker News posts recieve the most comments, and when. There are two different post types we are concerned with - \"Ask HN\", which is a text post that asks a specific question to discuss in the comments, and \"Show HN\", which is a link to content found elsewhere on the internet.\n",
    "\n",
    "The dataset includes the posts from the year leading up to September 26, 2016. The documentation can be found [here](https://www.kaggle.com/hacker-news/hacker-news-posts)."
   ]
  },
  {
   "cell_type": "markdown",
   "id": "4209897d",
   "metadata": {},
   "source": [
    "First, the data is read from the CSV file and split into the header line and data. The header and first 5 rows of data are shown below."
   ]
  },
  {
   "cell_type": "code",
   "execution_count": 1,
   "id": "6c5ccfcf",
   "metadata": {},
   "outputs": [
    {
     "name": "stdout",
     "output_type": "stream",
     "text": [
      "['id', 'title', 'url', 'num_points', 'num_comments', 'author', 'created_at']\n",
      "\n",
      "['12579008', 'You have two days to comment if you want stem cells to be classified as your own', 'http://www.regulations.gov/document?D=FDA-2015-D-3719-0018', '1', '0', 'altstar', '9/26/2016 3:26']\n",
      "\n",
      "['12579005', 'SQLAR  the SQLite Archiver', 'https://www.sqlite.org/sqlar/doc/trunk/README.md', '1', '0', 'blacksqr', '9/26/2016 3:24']\n",
      "\n",
      "['12578997', 'What if we just printed a flatscreen television on the side of our boxes?', 'https://medium.com/vanmoof/our-secrets-out-f21c1f03fdc8#.ietxmez43', '1', '0', 'pavel_lishin', '9/26/2016 3:19']\n",
      "\n",
      "['12578989', 'algorithmic music', 'http://cacm.acm.org/magazines/2011/7/109891-algorithmic-composition/fulltext', '1', '0', 'poindontcare', '9/26/2016 3:16']\n",
      "\n",
      "['12578979', 'How the Data Vault Enables the Next-Gen Data Warehouse and Data Lake', 'https://www.talend.com/blog/2016/05/12/talend-and-Â\\x93the-data-vaultÂ\\x94', '1', '0', 'markgainor1', '9/26/2016 3:14']\n"
     ]
    }
   ],
   "source": [
    "from csv import reader\n",
    "hn_full = list(reader(open(\"datasets/hackernews.csv\")))\n",
    "\n",
    "hn_header, hn = hn_full[0], hn_full[1:]\n",
    "\n",
    "print(hn_header, *hn[:5], sep=\"\\n\\n\")"
   ]
  },
  {
   "cell_type": "markdown",
   "id": "a3a49ae1",
   "metadata": {},
   "source": [
    "## Analyzing average comment counts between post types\n",
    "\n",
    "We then split the data into \"Ask HN\", \"Show HN\", and Other posts, then check how many of each are present."
   ]
  },
  {
   "cell_type": "code",
   "execution_count": 2,
   "id": "29fc001d",
   "metadata": {},
   "outputs": [],
   "source": [
    "from typing import List, Tuple\n",
    "def split_posts(dataset: List[List], title_col: int = 1) -> Tuple[List[List], List[List], List[List]]:\n",
    "    \"\"\"Split the given dataset into Ask HN, Show HN, and Other posts.\"\"\"\n",
    "    ask_posts = list(filter(lambda row: row[title_col].lower().startswith(\"ask hn\"), dataset))\n",
    "    show_posts = list(filter(lambda row: row[title_col].lower().startswith(\"show hn\"), dataset))\n",
    "    other_posts = list(filter(lambda row: not(row[title_col].lower().startswith(\"ask hn\")\n",
    "                                              or row[title_col].lower().startswith(\"show hn\")), dataset))\n",
    "    return ask_posts, show_posts, other_posts"
   ]
  },
  {
   "cell_type": "code",
   "execution_count": 3,
   "id": "e19020b5",
   "metadata": {},
   "outputs": [
    {
     "name": "stdout",
     "output_type": "stream",
     "text": [
      "Number of Ask HN posts: 9139\n",
      "Number of Show HN posts: 10158\n",
      "Number of Other posts: 273822\n"
     ]
    }
   ],
   "source": [
    "ask_posts, show_posts, other_posts = split_posts(hn)\n",
    "\n",
    "print(\"Number of Ask HN posts:\", len(ask_posts))\n",
    "print(\"Number of Show HN posts:\", len(show_posts))\n",
    "print(\"Number of Other posts:\", len(other_posts))"
   ]
  },
  {
   "cell_type": "code",
   "execution_count": 4,
   "id": "94adf8c0",
   "metadata": {},
   "outputs": [],
   "source": [
    "from typing import List\n",
    "def avg_comments(dataset: List[List], comment_col: int = 4):\n",
    "    return round(sum([ int(row[comment_col]) for row in dataset ]) / len(dataset), 2)"
   ]
  },
  {
   "cell_type": "code",
   "execution_count": 5,
   "id": "e6f1e74f",
   "metadata": {},
   "outputs": [
    {
     "name": "stdout",
     "output_type": "stream",
     "text": [
      "Average comments per Ask HN post: 10.39\n",
      "Average comments per Show HN post: 4.89\n"
     ]
    }
   ],
   "source": [
    "avg_ask_comments = avg_comments(ask_posts)\n",
    "avg_show_comments = avg_comments(show_posts)\n",
    "\n",
    "print(\"Average comments per Ask HN post:\", avg_ask_comments)\n",
    "print(\"Average comments per Show HN post:\", avg_show_comments)"
   ]
  },
  {
   "cell_type": "markdown",
   "id": "d4fd7dbb",
   "metadata": {},
   "source": [
    "There are more than twice as many posts on each ask post compared to show posts."
   ]
  },
  {
   "cell_type": "code",
   "execution_count": 6,
   "id": "5f52209b",
   "metadata": {},
   "outputs": [],
   "source": [
    "import datetime as dt\n",
    "from typing import List, Dict\n",
    "def avg_comments_by_hour(dataset: List[List], date_col: int = 6, comment_col: int = 4) -> Dict[int, float]:\n",
    "    counts_by_hour = dict()\n",
    "    comments_by_hour = dict()\n",
    "    for row in dataset:\n",
    "        hour = dt.datetime.strptime(row[date_col].split()[1], \"%H:%M\").hour\n",
    "        comments = int(row[comment_col])\n",
    "\n",
    "        try:\n",
    "            counts_by_hour[hour] += 1\n",
    "        except KeyError:\n",
    "            counts_by_hour[hour] = 1\n",
    "\n",
    "        try:\n",
    "            comments_by_hour[hour] += comments\n",
    "        except KeyError:\n",
    "            comments_by_hour[hour] = comments\n",
    "    return dict(sorted({ hour: round(comments_by_hour[hour] / count, 2)\n",
    "                            for hour, count in counts_by_hour.items() }.items(),\n",
    "                        key=lambda x: x[1], reverse=True))"
   ]
  },
  {
   "cell_type": "code",
   "execution_count": 7,
   "id": "99891358",
   "metadata": {},
   "outputs": [
    {
     "name": "stdout",
     "output_type": "stream",
     "text": [
      "Top 5 Hours for Ask Post Comments:\n",
      "15:00 - 28.68\n",
      "13:00 - 16.32\n",
      "12:00 - 12.38\n",
      "02:00 - 11.14\n",
      "10:00 - 10.68\n"
     ]
    }
   ],
   "source": [
    "avg_ask_comments_by_hour = avg_comments_by_hour(ask_posts)\n",
    "\n",
    "print(\"Top 5 Hours for Ask Post Comments:\")\n",
    "print(*[ f\"{hour:02d}:00 - {amt}\"\n",
    "            for hour, amt in list(avg_ask_comments_by_hour.items())[:5] ], sep=\"\\n\")"
   ]
  },
  {
   "cell_type": "markdown",
   "id": "0e8da8f1",
   "metadata": {},
   "source": [
    "As described in the dataset documentation, the time zone is US Eastern. From this, we can see that the most popular post category, Ask HN, receives a moderate amount of activity around 10AM which increases from 12PM to 1PM, falls off at 2PM, then peaks at 3PM. 2AM is another high-activity hour, indicating a large contingent of night traffic or possible non-American users. This would be 7AM in British time, or 8AM in Berlin time.\n",
    "\n",
    "Based on this information, posts made at 3PM EST recieve the most comments."
   ]
  },
  {
   "cell_type": "markdown",
   "id": "65d3e537",
   "metadata": {},
   "source": [
    "### Determining effects of posts with no comments\n",
    "\n",
    "To account for potential skewing by posts that are made but recieve no comments, we will perform the same steps again after eliminating all posts that did not recieve any comments to see if our final data is different."
   ]
  },
  {
   "cell_type": "code",
   "execution_count": 8,
   "id": "6b1c3e3f",
   "metadata": {},
   "outputs": [],
   "source": [
    "# _c suffix indicates \"with comments\"\n",
    "ask_posts_c, show_posts_c, other_posts_c = split_posts(list(filter(lambda row: int(row[4]) > 0, hn)))"
   ]
  },
  {
   "cell_type": "code",
   "execution_count": 9,
   "id": "9dc87d1e",
   "metadata": {},
   "outputs": [
    {
     "name": "stdout",
     "output_type": "stream",
     "text": [
      "Average comments per commented Ask HN post: 13.74\n",
      "Average comments per commented Show HN post: 9.81\n"
     ]
    }
   ],
   "source": [
    "avg_ask_comments_c = avg_comments(ask_posts_c)\n",
    "avg_show_comments_c = avg_comments(show_posts_c)\n",
    "\n",
    "print(\"Average comments per commented Ask HN post:\", avg_ask_comments_c)\n",
    "print(\"Average comments per commented Show HN post:\", avg_show_comments_c)"
   ]
  },
  {
   "cell_type": "markdown",
   "id": "e7366f6c",
   "metadata": {},
   "source": [
    "After this adjustment, the different post types are more similar in average comment count, differing by a factor of 1.4 instead of 2.1, with Show HN having a higher average. This indicates that more Show HN posts recieve no comments, which we can quickly verify."
   ]
  },
  {
   "cell_type": "code",
   "execution_count": 10,
   "id": "57ad3811",
   "metadata": {},
   "outputs": [
    {
     "name": "stdout",
     "output_type": "stream",
     "text": [
      "Number of Ask HN posts with 0 comments: 2228 (24.38%)\n",
      "Number of Show HN posts with 0 comments: 5099 (50.20%)\n"
     ]
    }
   ],
   "source": [
    "ask_posts_no_c_count = len(ask_posts) - len(ask_posts_c)\n",
    "show_posts_no_c_count = len(show_posts) - len(show_posts_c)\n",
    "print(\"Number of Ask HN posts with 0 comments:\", len(ask_posts) - len(ask_posts_c),\n",
    "            f\"({ask_posts_no_c_count / len(ask_posts) * 100:.2f}%)\")\n",
    "print(\"Number of Show HN posts with 0 comments:\", len(show_posts) - len(show_posts_c),\n",
    "            f\"({show_posts_no_c_count / len(show_posts) * 100:.2f}%)\")"
   ]
  },
  {
   "cell_type": "markdown",
   "id": "6d7e6f0e",
   "metadata": {},
   "source": [
    "As predicted, more than twice as many Show HN posts recieved no comments. Only half of all Show HN posts recieved a comment, compared to 3 out of 4 Ask HN posts."
   ]
  },
  {
   "cell_type": "markdown",
   "id": "4e498b64",
   "metadata": {},
   "source": [
    "### Average comments by hour of Ask HN posts with at least 1 comment\n",
    "\n",
    "After determining that Ask HN posts both recieve more comments and are more likely to recieve at least 1 comment, we would like to compare the average comments made per hour again."
   ]
  },
  {
   "cell_type": "code",
   "execution_count": 11,
   "id": "45400ae4",
   "metadata": {},
   "outputs": [
    {
     "name": "stdout",
     "output_type": "stream",
     "text": [
      "Top 5 Hours for Ask Post Comments (excluding posts with 0 comments):\n",
      "15:00 - 39.67\n",
      "13:00 - 22.22\n",
      "12:00 - 15.45\n",
      "10:00 - 13.76\n",
      "17:00 - 13.73\n"
     ]
    }
   ],
   "source": [
    "avg_ask_comments_by_hour_c = avg_comments_by_hour(ask_posts_c)\n",
    "\n",
    "print(\"Top 5 Hours for Ask Post Comments (excluding posts with 0 comments):\")\n",
    "print(*[ f\"{hour:02d}:00 - {amt}\"\n",
    "            for hour, amt in list(avg_ask_comments_by_hour_c.items())[:5] ], sep=\"\\n\")"
   ]
  },
  {
   "cell_type": "markdown",
   "id": "0c4d5f9c",
   "metadata": {},
   "source": [
    "Posts made at 3PM still recieve the most comments, with 1PM and 12PM following with a gap of a similar ratio as before. 2AM no longer appears in the top 5, replaced by 5PM, with nearly the same average comments per post as 10AM."
   ]
  },
  {
   "cell_type": "markdown",
   "id": "7bcc4cde",
   "metadata": {},
   "source": [
    "## Analyzing average point counts between post types\n",
    "\n",
    "Now that we know that Ask HN posts made at 3PM recieve the most comments, we are interested in determining if these posts also recieve more positive interaction in the form of vote totals."
   ]
  },
  {
   "cell_type": "code",
   "execution_count": 12,
   "id": "fdf54348",
   "metadata": {},
   "outputs": [],
   "source": [
    "from typing import List\n",
    "def avg_points(dataset: List[List], points_col: int = 3):\n",
    "    return round(sum([ int(row[points_col]) for row in dataset ]) / len(dataset), 2)"
   ]
  },
  {
   "cell_type": "code",
   "execution_count": 13,
   "id": "7e3d5df6",
   "metadata": {},
   "outputs": [
    {
     "name": "stdout",
     "output_type": "stream",
     "text": [
      "Average Ask HN post points: 11.31\n",
      "Average Show HN post points: 14.84\n"
     ]
    }
   ],
   "source": [
    "avg_ask_points = avg_points(ask_posts)\n",
    "avg_show_points = avg_points(show_posts)\n",
    "\n",
    "print(\"Average Ask HN post points:\", avg_ask_points)\n",
    "print(\"Average Show HN post points:\", avg_show_points)"
   ]
  },
  {
   "cell_type": "markdown",
   "id": "b2a1a75a",
   "metadata": {},
   "source": [
    "todo - apply a filter for points > 0\n",
    "\n",
    "difference suggests that it is easier to click on the link, skim/read the post and vote than it is to comment on a question. different level of effort - Ask HN more likely to maintain users who are already engaged while Show HN can bring new users in or maintain users with less engagement\n",
    "\n",
    "maybe combine metrics?"
   ]
  },
  {
   "cell_type": "code",
   "execution_count": 14,
   "id": "7199b05e",
   "metadata": {},
   "outputs": [],
   "source": [
    "def avg_points_by_hour(dataset: List[List], date_col: int = 6, point_col: int = 3) -> Dict[int, float]:\n",
    "    counts_by_hour = dict()\n",
    "    points_by_hour = dict()\n",
    "    for row in dataset:\n",
    "        hour = dt.datetime.strptime(row[date_col].split()[1], \"%H:%M\").hour\n",
    "        points = int(row[point_col])\n",
    "\n",
    "        try:\n",
    "            counts_by_hour[hour] += 1\n",
    "        except KeyError:\n",
    "            counts_by_hour[hour] = 1\n",
    "\n",
    "        try:\n",
    "            points_by_hour[hour] += points\n",
    "        except KeyError:\n",
    "            points_by_hour[hour] = points\n",
    "    return dict(sorted({ hour: round(points_by_hour[hour] / count, 2)\n",
    "                            for hour, count in counts_by_hour.items() }.items(),\n",
    "                        key=lambda x: x[1], reverse=True))"
   ]
  },
  {
   "cell_type": "code",
   "execution_count": 15,
   "id": "89a46316",
   "metadata": {},
   "outputs": [
    {
     "name": "stdout",
     "output_type": "stream",
     "text": [
      "Top 5 Hours for Ask Post Points:\n",
      "15:00 - 21.64\n",
      "13:00 - 17.93\n",
      "12:00 - 13.58\n",
      "10:00 - 13.44\n",
      "17:00 - 12.19\n",
      "\n",
      "Top 5 Hours for Show Post Points:\n",
      "12:00 - 20.91\n",
      "11:00 - 19.26\n",
      "13:00 - 17.02\n",
      "19:00 - 16.06\n",
      "06:00 - 15.99\n"
     ]
    }
   ],
   "source": [
    "avg_ask_points_by_hour = avg_points_by_hour(ask_posts)\n",
    "avg_show_points_by_hour = avg_points_by_hour(show_posts)\n",
    "\n",
    "print(\"Top 5 Hours for Ask Post Points:\")\n",
    "print(*[ f\"{hour:02d}:00 - {amt}\"\n",
    "            for hour, amt in list(avg_ask_points_by_hour.items())[:5] ], sep=\"\\n\", end=\"\\n\\n\")\n",
    "\n",
    "print(\"Top 5 Hours for Show Post Points:\")\n",
    "print(*[ f\"{hour:02d}:00 - {amt}\"\n",
    "            for hour, amt in list(avg_show_points_by_hour.items())[:5] ], sep=\"\\n\")"
   ]
  },
  {
   "cell_type": "markdown",
   "id": "ab906482",
   "metadata": {},
   "source": [
    "The engagement pattern which emerges is remarkably similar to the comment metrics. The early afternoon in EST retains the highest engagement in both comments and points per post.\n",
    "\n",
    "Notably, Ask HN posts have a much larger dropoff between the second and third highest points per hour, from 17.93 to 13.58, while the top 5 hours for Show HN posts only have a difference of just under 5 points per hour. This indicates that Show HN posts recieve points more consistently throughout the day than Ask HN posts in addition to recieving more overall."
   ]
  },
  {
   "cell_type": "markdown",
   "id": "9d698060",
   "metadata": {},
   "source": [
    "### Accounting for posts without a positive vote total\n",
    "\n",
    "In this dataset, no posts has 0 points. However, like when checking comment metrics, there are a large number of posts which have only 1 point, and these may affect the outcome."
   ]
  },
  {
   "cell_type": "code",
   "execution_count": 16,
   "id": "4e8678bb",
   "metadata": {},
   "outputs": [],
   "source": [
    "# _p suffix indicates \"with points\"\n",
    "ask_posts_p, show_posts_p, other_posts_p = split_posts(list(filter(lambda row: int(row[3]) > 1, hn)))"
   ]
  },
  {
   "cell_type": "code",
   "execution_count": 17,
   "id": "a93c2ad0",
   "metadata": {},
   "outputs": [
    {
     "name": "stdout",
     "output_type": "stream",
     "text": [
      "Number of Ask HN posts with only 1 point: 2515 (27.52%)\n",
      "Number of Show HN posts with only 1 point: 1895 (18.66%)\n"
     ]
    }
   ],
   "source": [
    "ask_posts_no_p_count = len(ask_posts) - len(ask_posts_p)\n",
    "show_posts_no_p_count = len(show_posts) - len(show_posts_p)\n",
    "print(\"Number of Ask HN posts with only 1 point:\", len(ask_posts) - len(ask_posts_p),\n",
    "            f\"({ask_posts_no_p_count / len(ask_posts) * 100:.2f}%)\")\n",
    "print(\"Number of Show HN posts with only 1 point:\", len(show_posts) - len(show_posts_p),\n",
    "            f\"({show_posts_no_p_count / len(show_posts) * 100:.2f}%)\")"
   ]
  },
  {
   "cell_type": "markdown",
   "id": "c172e0c2",
   "metadata": {},
   "source": [
    "As seen above, 27% of Ask HN posts recieved no additional points, compared to only 18% of Show HN posts."
   ]
  },
  {
   "cell_type": "code",
   "execution_count": 18,
   "id": "675365e0",
   "metadata": {},
   "outputs": [
    {
     "name": "stdout",
     "output_type": "stream",
     "text": [
      "Average points per Ask HN post with points: 13.9\n",
      "Average points per Show HN post with points: 5.93\n"
     ]
    }
   ],
   "source": [
    "avg_ask_points_p = avg_comments(ask_posts_p)\n",
    "avg_show_points_p = avg_comments(show_posts_p)\n",
    "\n",
    "print(\"Average points per Ask HN post with points:\", avg_ask_points_p)\n",
    "print(\"Average points per Show HN post with points:\", avg_show_points_p)"
   ]
  },
  {
   "cell_type": "markdown",
   "id": "83ebae60",
   "metadata": {},
   "source": [
    "This greatly changes our analysis. Of posts that recieved points, Ask HN posts recieved an average of more than twice as many points as Show HN posts. This indicates that while an Ask HN post is less likely to recieve any interaction, when it does it typically gets more than a Show HN post."
   ]
  },
  {
   "cell_type": "markdown",
   "id": "a27321d5",
   "metadata": {},
   "source": [
    "## Conclusions\n",
    "\n",
    "Based on what we have learned from this data, we have a few key points to take away:\n",
    "\n",
    "* Posts made in the early afternoon in EST recieve the most interaction overall\n",
    "* Show HN posts are more likely than Ask HN posts to recieve interaction\n",
    "* Of posts that do recieve interaction, Ask HN posts recieve more comments and points on average\n",
    "\n",
    "Based on this information, the most popular type of post overall would be an Ask HN post made at 3PM EST."
   ]
  }
 ],
 "metadata": {
  "kernelspec": {
   "display_name": "Python 3 (ipykernel)",
   "language": "python",
   "name": "python3"
  },
  "language_info": {
   "codemirror_mode": {
    "name": "ipython",
    "version": 3
   },
   "file_extension": ".py",
   "mimetype": "text/x-python",
   "name": "python",
   "nbconvert_exporter": "python",
   "pygments_lexer": "ipython3",
   "version": "3.8.10"
  }
 },
 "nbformat": 4,
 "nbformat_minor": 5
}
