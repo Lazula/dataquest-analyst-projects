{
 "cells": [
  {
   "cell_type": "markdown",
   "id": "2c0e5dbd",
   "metadata": {},
   "source": [
    "# Identifying a Profitable Free iOS and Android App Profile\n",
    "\n",
    "We are tasked with identifying which market segment of free iOS and Android apps has the most potential for a profitable app. We are interested in identifying an ad-driven app profile successful in both markets, so maximizing the number of users is key.\n",
    "\n",
    "This project analyzes a dataset from Kaggle containing information about the top 7200 apps on the Apple iOS app store as of July 2017 and the top 10000 apps on the Google Play app store as of September 2018.\n",
    "\n",
    "The dataset documentation can be found at the following links:\n",
    "\n",
    "* [Apple iOS App Store](https://www.kaggle.com/ramamet4/app-store-apple-data-set-10k-apps)\n",
    "* [Google Play App Store](https://www.kaggle.com/lava18/google-play-store-apps)"
   ]
  },
  {
   "cell_type": "markdown",
   "id": "09d5fdb8",
   "metadata": {},
   "source": [
    "We begin by establishing `explore_data()`, a simple function to examine the datasets conveniently."
   ]
  },
  {
   "cell_type": "code",
   "execution_count": 1,
   "id": "d99a51be",
   "metadata": {},
   "outputs": [],
   "source": [
    "from typing import List\n",
    "def explore_data(dataset: List[List], start: int = None,\n",
    "                 end: int = None, rows_and_columns: bool = False) -> None:\n",
    "    start = start if start is not None else 0\n",
    "    end = end if end is not None else len(dataset)-1\n",
    "\n",
    "    print(*dataset[start:end], sep=\"\\n\\n\")\n",
    "    \n",
    "    if rows_and_columns:\n",
    "        print(\"Number of rows:\", len(dataset))\n",
    "        print(\"Number of cols:\", len(dataset[0]), end=\"\\n\\n\")"
   ]
  },
  {
   "cell_type": "markdown",
   "id": "817ecd0e",
   "metadata": {},
   "source": [
    "The CSV files are read and split into headers and data."
   ]
  },
  {
   "cell_type": "code",
   "execution_count": 2,
   "id": "64096f66",
   "metadata": {},
   "outputs": [
    {
     "name": "stdout",
     "output_type": "stream",
     "text": [
      "['id', 'track_name', 'size_bytes', 'currency', 'price', 'rating_count_tot', 'rating_count_ver', 'user_rating', 'user_rating_ver', 'ver', 'cont_rating', 'prime_genre', 'sup_devices.num', 'ipadSc_urls.num', 'lang.num', 'vpp_lic']\n",
      "['App', 'Category', 'Rating', 'Reviews', 'Size', 'Installs', 'Type', 'Price', 'Content Rating', 'Genres', 'Last Updated', 'Current Ver', 'Android Ver']\n"
     ]
    }
   ],
   "source": [
    "from csv import reader\n",
    "apple_full = list(reader(open(\"datasets/AppleStore.csv\")))\n",
    "gplay_full = list(reader(open(\"datasets/googleplaystore.csv\")))\n",
    "\n",
    "apple_header, apple = apple_full[0], apple_full[1:]\n",
    "gplay_header, gplay = gplay_full[0], gplay_full[1:]\n",
    "\n",
    "print(apple_header, gplay_header, sep=\"\\n\")"
   ]
  },
  {
   "cell_type": "markdown",
   "id": "ad33ae99",
   "metadata": {},
   "source": [
    "## Data Cleaning\n",
    "\n",
    "Some of the data in the datasets is erroneous and must be cleaned. First, there is a malformed row in the Google Play dataset which has the incorrect number of columns due a missing `'Category'` column. Second, due to the same app being scraped multiple times, there are several duplicate names among the data. The following function removes duplicate rows using the review count as a standin for a timestamp, so that only the most recent entry with the highest review count is used."
   ]
  },
  {
   "cell_type": "markdown",
   "id": "f8b2e6b6",
   "metadata": {},
   "source": [
    "### Removing malformed rows"
   ]
  },
  {
   "cell_type": "markdown",
   "id": "ae795326",
   "metadata": {},
   "source": [
    "The following function will return the given dataset with any rows of the incorrect length removed."
   ]
  },
  {
   "cell_type": "code",
   "execution_count": 3,
   "id": "9e8ac3d2",
   "metadata": {},
   "outputs": [],
   "source": [
    "from typing import List\n",
    "def remove_malformed_rows(dataset: List[List], header: List) -> List[List]:\n",
    "    for row in dataset:\n",
    "        if len(row) != len(header):\n",
    "            del dataset[dataset.index(row)]\n",
    "    return dataset"
   ]
  },
  {
   "cell_type": "code",
   "execution_count": 4,
   "id": "9f4e6519",
   "metadata": {},
   "outputs": [
    {
     "name": "stdout",
     "output_type": "stream",
     "text": [
      "Rows before removing malformed rows: 10841\n",
      "Rows after removing malformed rows:  10840\n"
     ]
    }
   ],
   "source": [
    "print(\"Rows before removing malformed rows:\", len(gplay))\n",
    "gplay = remove_malformed_rows(gplay, gplay_header)\n",
    "print(\"Rows after removing malformed rows: \", len(gplay))"
   ]
  },
  {
   "cell_type": "markdown",
   "id": "5c4b18fa",
   "metadata": {},
   "source": [
    "One malformed row was removed from the Google Play data."
   ]
  },
  {
   "cell_type": "code",
   "execution_count": 5,
   "id": "d2168321",
   "metadata": {},
   "outputs": [
    {
     "name": "stdout",
     "output_type": "stream",
     "text": [
      "Rows before removing malformed rows: 7197\n",
      "Rows after removing malformed rows:  7197\n"
     ]
    }
   ],
   "source": [
    "print(\"Rows before removing malformed rows:\", len(apple))\n",
    "apple = remove_malformed_rows(apple, apple_header)\n",
    "print(\"Rows after removing malformed rows: \", len(apple))"
   ]
  },
  {
   "cell_type": "markdown",
   "id": "4c3469cb",
   "metadata": {},
   "source": [
    "The Apple data was not modified as no malformed rows exist in the dataset."
   ]
  },
  {
   "cell_type": "markdown",
   "id": "90a7ab4d",
   "metadata": {},
   "source": [
    "### Removing duplicates"
   ]
  },
  {
   "cell_type": "code",
   "execution_count": 6,
   "id": "d7c13316",
   "metadata": {},
   "outputs": [
    {
     "name": "stdout",
     "output_type": "stream",
     "text": [
      "Apple dataset contains 7195 unique names and 2 duplicate names.\n",
      "Google Play dataset contains 9659 unique names and 1181 duplicate names.\n"
     ]
    }
   ],
   "source": [
    "apple_unique_names = list()\n",
    "apple_duplicate_names = list()\n",
    "for row in apple:\n",
    "    name = row[1]\n",
    "    if name not in apple_unique_names:\n",
    "        apple_unique_names.append(name)\n",
    "    else:\n",
    "        apple_duplicate_names.append(name)\n",
    "\n",
    "apple_expected_len = len(apple) - len(apple_duplicate_names)\n",
    "print(f\"Apple dataset contains {len(apple_unique_names)} unique names \"\n",
    "      f\"and {len(apple_duplicate_names)} duplicate names.\")\n",
    "        \n",
    "gplay_unique_names = list()\n",
    "gplay_duplicate_names = list()\n",
    "for row in gplay:\n",
    "    name = row[0]\n",
    "    if name not in gplay_unique_names:\n",
    "        gplay_unique_names.append(name)\n",
    "    else:\n",
    "        gplay_duplicate_names.append(name)\n",
    "\n",
    "print(f\"Google Play dataset contains {len(gplay_unique_names)} unique names \"\n",
    "      f\"and {len(gplay_duplicate_names)} duplicate names.\")"
   ]
  },
  {
   "cell_type": "markdown",
   "id": "abdf7fbc",
   "metadata": {},
   "source": [
    "As seen above, the Apple and Google Play datasets contain 2 and 1181 duplicate apps, respectively. The following function will return the given dataset with any duplicate apps merged, using the review count as a pseudo-timestamp, leaving only the entry with the highest number of reviews, which should be the most recent."
   ]
  },
  {
   "cell_type": "code",
   "execution_count": 7,
   "id": "ec7f23b7",
   "metadata": {},
   "outputs": [],
   "source": [
    "from typing import List\n",
    "def remove_duplicates_keyed(dataset: List[List], key_col: int, data_col: int) -> List[List]:\n",
    "    \"\"\"Currently unfinished function - could have a comparison\n",
    "       function argument to support custom data types.\"\"\"\n",
    "    # Create a map of names to rows\n",
    "    tracker = dict()\n",
    "    for row in dataset:\n",
    "        # Collect the name and review count\n",
    "        key = row[key_col]\n",
    "        new_data = int(row[data_col])\n",
    "\n",
    "        # If the name does not exist in the tracker or the new review count\n",
    "        # is higher, map the name to the current row.\n",
    "        current_entry = tracker.get(key)\n",
    "        if (current_entry is None\n",
    "                or int(current_entry[data_col]) < new_data):\n",
    "            tracker[key] = row\n",
    "\n",
    "    return list(tracker.values())"
   ]
  },
  {
   "cell_type": "markdown",
   "id": "98f90992",
   "metadata": {},
   "source": [
    "The following snippet applies this function to each dataset, providing the name and review count column numbers."
   ]
  },
  {
   "cell_type": "code",
   "execution_count": 8,
   "id": "bc900d8e",
   "metadata": {},
   "outputs": [
    {
     "name": "stdout",
     "output_type": "stream",
     "text": [
      "2 duplicate apps removed from Apple dataset. New row count: 7195\n",
      "1181 duplicate apps removed from Google Play dataset. New row count: 9659\n"
     ]
    }
   ],
   "source": [
    "apple_len_dup = len(apple)\n",
    "apple = remove_duplicates_keyed(apple, key_col=1, data_col=5)\n",
    "apple_len_nodup = len(apple)\n",
    "apple_num_dup = apple_len_dup - apple_len_nodup\n",
    "\n",
    "\n",
    "gplay_len_dup = len(gplay)\n",
    "gplay = remove_duplicates_keyed(gplay, key_col=0, data_col=3)\n",
    "gplay_len_nodup = len(gplay)\n",
    "gplay_num_dup = gplay_len_dup - gplay_len_nodup\n",
    "\n",
    "print(f\"{apple_num_dup} duplicate apps removed from Apple dataset. New row count: {len(apple)}\")\n",
    "print(f\"{gplay_num_dup} duplicate apps removed from Google Play dataset. New row count: {len(gplay)}\")"
   ]
  },
  {
   "cell_type": "markdown",
   "id": "0653ebdd",
   "metadata": {},
   "source": [
    "The snippet reports that the correct number of duplicates were removed. The row counts match the number of unique names above - 7195 for Apple and 9659 for Google Play."
   ]
  },
  {
   "cell_type": "markdown",
   "id": "045c49e8",
   "metadata": {},
   "source": [
    "### Removing non-English apps\n",
    "\n",
    "The iOS and Google Play stores contains apps of a variety of languages, but we are currently interested only in those directed to an English-speaking audience. To account for this, we will check each app name for non-English characters. As some English apps still use non-ASCII characters such as emojis or symbols, a small allowance is made to reduce the number of English apps mistakenly removed. If a name has more than 3 non-ASCII characters, it is considered non-English."
   ]
  },
  {
   "cell_type": "code",
   "execution_count": 9,
   "id": "1a198e37",
   "metadata": {},
   "outputs": [],
   "source": [
    "from typing import List\n",
    "def remove_nonenglish(dataset: List[List], name_col: int) -> List[List]:\n",
    "    output = list()\n",
    "    for row in dataset:\n",
    "        name = row[name_col]\n",
    "        noneng_count = sum(1 for c in name if ord(c) > 127)\n",
    "        if noneng_count < 4:\n",
    "            output.append(row)\n",
    "    \n",
    "    return output"
   ]
  },
  {
   "cell_type": "markdown",
   "id": "8eba19af",
   "metadata": {},
   "source": [
    "The following snippet applies this function to each dataset."
   ]
  },
  {
   "cell_type": "code",
   "execution_count": 10,
   "id": "b3ce3a52",
   "metadata": {},
   "outputs": [
    {
     "name": "stdout",
     "output_type": "stream",
     "text": [
      "There are 6181 English apps in the Apple dataset. Removed 1014 non-English apps.\n",
      "There are 9614 English apps in the Google Play dataset. Removed 45 non-English apps.\n"
     ]
    }
   ],
   "source": [
    "apple_num_all_lang = len(apple)\n",
    "apple = remove_nonenglish(apple, name_col=1)\n",
    "apple_num_eng = len(apple)\n",
    "apple_num_noneng = apple_num_all_lang - apple_num_eng\n",
    "\n",
    "print(f\"There are {apple_num_eng} English apps in the Apple dataset. \"\n",
    "      f\"Removed {apple_num_noneng} non-English apps.\")\n",
    "\n",
    "gplay_num_all_lang = len(gplay)\n",
    "gplay = remove_nonenglish(gplay, name_col=0)\n",
    "gplay_num_eng = len(gplay)\n",
    "gplay_num_noneng = gplay_num_all_lang - gplay_num_eng\n",
    "\n",
    "print(f\"There are {gplay_num_eng} English apps in the Google Play dataset. \"\n",
    "      f\"Removed {gplay_num_noneng} non-English apps.\")"
   ]
  },
  {
   "cell_type": "markdown",
   "id": "b305ad8c",
   "metadata": {},
   "source": [
    "### Removing non-free apps\n",
    "\n",
    "As we are interested only in free apps, we must remove apps that are not free. The following function will remove any apps identified as non-free from a given dataset."
   ]
  },
  {
   "cell_type": "code",
   "execution_count": 11,
   "id": "51b9cedb",
   "metadata": {},
   "outputs": [],
   "source": [
    "import string\n",
    "from typing import List\n",
    "def remove_nonfree(dataset: List[List], price_col: int) -> List[List]:\n",
    "    output = list()\n",
    "    for row in dataset:\n",
    "        # Remove non-digit characters\n",
    "        price = ''.join(c for c in str(row[price_col]) if c in string.digits)\n",
    "        if float(price) == 0:\n",
    "            output.append(row)\n",
    "\n",
    "    return output"
   ]
  },
  {
   "cell_type": "markdown",
   "id": "c2fe777a",
   "metadata": {},
   "source": [
    "The following snippet removes all non-free apps from the datasets."
   ]
  },
  {
   "cell_type": "code",
   "execution_count": 12,
   "id": "23ae3853",
   "metadata": {},
   "outputs": [
    {
     "name": "stdout",
     "output_type": "stream",
     "text": [
      "There are 3220 free apps in the Apple dataset. 2961 non-free apps were removed.\n",
      "There are 8864 free apps in the Google Play dataset. 750 non-free apps were removed.\n"
     ]
    }
   ],
   "source": [
    "apple_num_all_price = len(apple)\n",
    "apple = remove_nonfree(apple, 4)\n",
    "apple_num_free = len(apple)\n",
    "apple_num_nonfree = apple_num_all_price - apple_num_free\n",
    "\n",
    "print(f\"There are {apple_num_free} free apps in the Apple dataset. \"\n",
    "      f\"{apple_num_nonfree} non-free apps were removed.\")\n",
    "\n",
    "gplay_num_all_price = len(gplay)\n",
    "gplay = remove_nonfree(gplay, 7)\n",
    "gplay_num_free = len(gplay)\n",
    "gplay_num_nonfree = gplay_num_all_price - gplay_num_free\n",
    "\n",
    "print(f\"There are {gplay_num_free} free apps in the Google Play dataset. \"\n",
    "      f\"{gplay_num_nonfree} non-free apps were removed.\")"
   ]
  },
  {
   "cell_type": "markdown",
   "id": "5a927267",
   "metadata": {},
   "source": [
    "## Identifying a top free English app profile\n",
    "\n",
    "To minimize risks and overhead, our validation strategy for an app idea consists of three steps:\n",
    "\n",
    "1. Build a minimal Android version of the app, and add it to Google Play\n",
    "2. If the app has a good response from users, we develop it further\n",
    "3. If the app is profitable after six months, we build an iOS version of the app and add it to the App Store.\n",
    "\n",
    "As our end goal is to make the app available on both Google Play and the iOS App Store, we need to find app profiles that are successful in both markets. We will begin by determining the most common genres for each market."
   ]
  },
  {
   "cell_type": "markdown",
   "id": "75e602db",
   "metadata": {},
   "source": [
    "### Selecting relevant columns\n",
    "\n",
    "The `prime_genre` column in the Apple dataset and the `Genre` and `Category` columns in the Google Play dataset contain the information we need. We will create a frequency table and sort the dictionary by values using the `frequency_table()` function. `print_frequency_table()` is used to print these tables in a readable fashion."
   ]
  },
  {
   "cell_type": "code",
   "execution_count": 13,
   "id": "516565b5",
   "metadata": {},
   "outputs": [],
   "source": [
    "from typing import List, Dict, Tuple\n",
    "def frequency_table(dataset: List[List], column: int,\n",
    "                    sep: str = None, add_percent: bool = False) -> Dict[str, Tuple[int, float]]:\n",
    "    # Construct the frequency table\n",
    "    output = dict()\n",
    "    for row in dataset:\n",
    "        # The optional separator can be used to account for\n",
    "        # multiple pieces of information in a single entry\n",
    "        for key in str(row[column]).split(sep):\n",
    "            try:\n",
    "                output[key] += 1\n",
    "            except KeyError:\n",
    "                output[key] = 1\n",
    "\n",
    "    # Sort\n",
    "    output_sorted = dict(sorted(output.items(), key=lambda x: x[1], reverse=True))\n",
    "\n",
    "    # Optionally, add percentage of total\n",
    "    if add_percent:\n",
    "        for key, count in output_sorted.items():\n",
    "            output_sorted[key] = (count, round(count / len(dataset) * 100, 2))\n",
    "    \n",
    "    return output_sorted\n",
    "\n",
    "\n",
    "from typing import Dict, Tuple\n",
    "def print_frequency_table(table: Dict[str, Tuple[int, float]], key_title: str,\n",
    "                          top: bool = None, show_percent: bool = False) -> None:\n",
    "    key_pad = max(len(key_title), max(len(x) for x in table.keys())) + 1\n",
    "    count_pad = max(len(\"Count\"), max(len(str(x[0])) for x in table.values())) + 1\n",
    "\n",
    "    if top is None:\n",
    "        top = len(table)\n",
    "\n",
    "    shown = 0\n",
    "    if show_percent:\n",
    "        print(f\"{key_title:<{key_pad}}| {'Count':<{count_pad}}| Percentage\")\n",
    "        print(f\"{'-'*key_pad}|{'-'*(count_pad+1)}|{'-'*12}\")\n",
    "        for key, info in table.items():\n",
    "            if shown >= top:\n",
    "                break\n",
    "            else:\n",
    "                shown += 1\n",
    "                \n",
    "            count, pct = info\n",
    "            print(f\"{key:<{key_pad}}| {count:<{count_pad}}| {pct}\")\n",
    "    else:\n",
    "        print(f\"{key_title:<{key_pad}}| {'Count':<{count_pad}}\")\n",
    "        print(f\"{'-'*key_pad}|{'-'*(count_pad+1)}\")\n",
    "        for key, info in table.items():\n",
    "            try:\n",
    "                count = info[0]\n",
    "            except TypeError:\n",
    "                count = info\n",
    "                \n",
    "            if shown >= top:\n",
    "                break\n",
    "            else:\n",
    "                shown += 1\n",
    "            print(f\"{key:<{key_pad}}| {count:<{count_pad}}\")\n",
    "    print()"
   ]
  },
  {
   "cell_type": "code",
   "execution_count": 14,
   "id": "a6213b7b",
   "metadata": {},
   "outputs": [
    {
     "name": "stdout",
     "output_type": "stream",
     "text": [
      "Apple genre frequency:\n",
      "Genre         | Count | Percentage\n",
      "--------------|-------|------------\n",
      "Games         | 1872  | 58.14\n",
      "Entertainment | 254   | 7.89\n",
      "&             | 251   | 7.8\n",
      "Photo         | 160   | 4.97\n",
      "Video         | 160   | 4.97\n",
      "Education     | 118   | 3.66\n",
      "Social        | 106   | 3.29\n",
      "Networking    | 106   | 3.29\n",
      "Shopping      | 84    | 2.61\n",
      "Utilities     | 81    | 2.52\n",
      "Sports        | 69    | 2.14\n",
      "Music         | 66    | 2.05\n",
      "Health        | 65    | 2.02\n",
      "Fitness       | 65    | 2.02\n",
      "Productivity  | 56    | 1.74\n",
      "Lifestyle     | 51    | 1.58\n",
      "News          | 43    | 1.34\n",
      "Travel        | 40    | 1.24\n",
      "Finance       | 36    | 1.12\n",
      "Weather       | 28    | 0.87\n",
      "Food          | 26    | 0.81\n",
      "Drink         | 26    | 0.81\n",
      "Reference     | 18    | 0.56\n",
      "Business      | 17    | 0.53\n",
      "Book          | 14    | 0.43\n",
      "Navigation    | 6     | 0.19\n",
      "Medical       | 6     | 0.19\n",
      "Catalogs      | 4     | 0.12\n",
      "\n",
      "Google Play category frequency:\n",
      "Category            | Count | Percentage\n",
      "--------------------|-------|------------\n",
      "FAMILY              | 1676  | 18.91\n",
      "GAME                | 862   | 9.72\n",
      "TOOLS               | 750   | 8.46\n",
      "BUSINESS            | 407   | 4.59\n",
      "LIFESTYLE           | 346   | 3.9\n",
      "PRODUCTIVITY        | 345   | 3.89\n",
      "FINANCE             | 328   | 3.7\n",
      "MEDICAL             | 313   | 3.53\n",
      "SPORTS              | 301   | 3.4\n",
      "PERSONALIZATION     | 294   | 3.32\n",
      "COMMUNICATION       | 287   | 3.24\n",
      "HEALTH_AND_FITNESS  | 273   | 3.08\n",
      "PHOTOGRAPHY         | 261   | 2.94\n",
      "NEWS_AND_MAGAZINES  | 248   | 2.8\n",
      "SOCIAL              | 236   | 2.66\n",
      "TRAVEL_AND_LOCAL    | 207   | 2.34\n",
      "SHOPPING            | 199   | 2.25\n",
      "BOOKS_AND_REFERENCE | 190   | 2.14\n",
      "DATING              | 165   | 1.86\n",
      "VIDEO_PLAYERS       | 159   | 1.79\n",
      "MAPS_AND_NAVIGATION | 124   | 1.4\n",
      "FOOD_AND_DRINK      | 110   | 1.24\n",
      "EDUCATION           | 103   | 1.16\n",
      "ENTERTAINMENT       | 85    | 0.96\n",
      "LIBRARIES_AND_DEMO  | 83    | 0.94\n",
      "AUTO_AND_VEHICLES   | 82    | 0.93\n",
      "HOUSE_AND_HOME      | 73    | 0.82\n",
      "WEATHER             | 71    | 0.8\n",
      "EVENTS              | 63    | 0.71\n",
      "PARENTING           | 58    | 0.65\n",
      "ART_AND_DESIGN      | 57    | 0.64\n",
      "COMICS              | 55    | 0.62\n",
      "BEAUTY              | 53    | 0.6\n",
      "\n",
      "Google Play genre frequency:\n",
      "Genre                   | Count | Percentage\n",
      "------------------------|-------|------------\n",
      "Tools                   | 750   | 8.46\n",
      "Education               | 606   | 6.84\n",
      "Entertainment           | 569   | 6.42\n",
      "Business                | 407   | 4.59\n",
      "Lifestyle               | 347   | 3.91\n",
      "Productivity            | 345   | 3.89\n",
      "Finance                 | 328   | 3.7\n",
      "Medical                 | 313   | 3.53\n",
      "Sports                  | 309   | 3.49\n",
      "Personalization         | 294   | 3.32\n",
      "Communication           | 288   | 3.25\n",
      "Action                  | 284   | 3.2\n",
      "Health & Fitness        | 275   | 3.1\n",
      "Photography             | 261   | 2.94\n",
      "News & Magazines        | 248   | 2.8\n",
      "Social                  | 236   | 2.66\n",
      "Casual                  | 210   | 2.37\n",
      "Travel & Local          | 207   | 2.34\n",
      "Shopping                | 199   | 2.25\n",
      "Books & Reference       | 191   | 2.15\n",
      "Simulation              | 191   | 2.15\n",
      "Arcade                  | 176   | 1.99\n",
      "Dating                  | 165   | 1.86\n",
      "Video Players & Editors | 160   | 1.81\n",
      "Maps & Navigation       | 124   | 1.4\n",
      "Puzzle                  | 121   | 1.37\n",
      "Food & Drink            | 110   | 1.24\n",
      "Racing                  | 104   | 1.17\n",
      "Role Playing            | 91    | 1.03\n",
      "Educational             | 88    | 0.99\n",
      "Strategy                | 84    | 0.95\n",
      "Libraries & Demo        | 83    | 0.94\n",
      "Auto & Vehicles         | 82    | 0.93\n",
      "Action & Adventure      | 81    | 0.91\n",
      "House & Home            | 73    | 0.82\n",
      "Weather                 | 71    | 0.8\n",
      "Adventure               | 64    | 0.72\n",
      "Events                  | 63    | 0.71\n",
      "Art & Design            | 61    | 0.69\n",
      "Parenting               | 58    | 0.65\n",
      "Comics                  | 55    | 0.62\n",
      "Beauty                  | 53    | 0.6\n",
      "Brain Games             | 52    | 0.59\n",
      "Pretend Play            | 46    | 0.52\n",
      "Board                   | 43    | 0.49\n",
      "Card                    | 41    | 0.46\n",
      "Trivia                  | 38    | 0.43\n",
      "Casino                  | 38    | 0.43\n",
      "Music & Video           | 30    | 0.34\n",
      "Creativity              | 28    | 0.32\n",
      "Word                    | 23    | 0.26\n",
      "Music                   | 20    | 0.23\n",
      "Music & Audio           | 1     | 0.01\n",
      "\n"
     ]
    }
   ],
   "source": [
    "apple_genre_freq = frequency_table(apple, 11, add_percent=True)\n",
    "\n",
    "print(\"Apple genre frequency:\")\n",
    "print_frequency_table(apple_genre_freq, key_title=\"Genre\", show_percent=True)\n",
    "\n",
    "gplay_category_freq = frequency_table(gplay, 1, add_percent=True)\n",
    "gplay_genre_freq = frequency_table(gplay, 9, sep=';', add_percent=True)\n",
    "\n",
    "print(\"Google Play category frequency:\")\n",
    "print_frequency_table(gplay_category_freq, key_title=\"Category\", show_percent=True)\n",
    "\n",
    "print(\"Google Play genre frequency:\")\n",
    "print_frequency_table(gplay_genre_freq, key_title=\"Genre\", show_percent=True)"
   ]
  },
  {
   "cell_type": "markdown",
   "id": "2be2d827",
   "metadata": {},
   "source": [
    "That's a lot of information - let's cut down our search to the top 5 or 10 in each column, which for these datasets will cut off at entries that make up about 3% of the column. We'll use top 5 for the broad Apple genre and Google Play category columns, and top 10 for the precise Google Play genre column."
   ]
  },
  {
   "cell_type": "code",
   "execution_count": 15,
   "id": "a0d4a663",
   "metadata": {},
   "outputs": [
    {
     "name": "stdout",
     "output_type": "stream",
     "text": [
      "Top 5 Apple genres:\n",
      "Genre         | Count | Percentage\n",
      "--------------|-------|------------\n",
      "Games         | 1872  | 58.14\n",
      "Entertainment | 254   | 7.89\n",
      "&             | 251   | 7.8\n",
      "Photo         | 160   | 4.97\n",
      "Video         | 160   | 4.97\n",
      "\n",
      "Top 5 Google Play categories:\n",
      "Category            | Count | Percentage\n",
      "--------------------|-------|------------\n",
      "FAMILY              | 1676  | 18.91\n",
      "GAME                | 862   | 9.72\n",
      "TOOLS               | 750   | 8.46\n",
      "BUSINESS            | 407   | 4.59\n",
      "LIFESTYLE           | 346   | 3.9\n",
      "\n",
      "Top 10 Google Play genres:\n",
      "Genre                   | Count | Percentage\n",
      "------------------------|-------|------------\n",
      "Tools                   | 750   | 8.46\n",
      "Education               | 606   | 6.84\n",
      "Entertainment           | 569   | 6.42\n",
      "Business                | 407   | 4.59\n",
      "Lifestyle               | 347   | 3.91\n",
      "Productivity            | 345   | 3.89\n",
      "Finance                 | 328   | 3.7\n",
      "Medical                 | 313   | 3.53\n",
      "Sports                  | 309   | 3.49\n",
      "Personalization         | 294   | 3.32\n",
      "\n"
     ]
    }
   ],
   "source": [
    "print(\"Top 5 Apple genres:\")\n",
    "print_frequency_table(apple_genre_freq, key_title=\"Genre\", top=5, show_percent=True)\n",
    "\n",
    "print(\"Top 5 Google Play categories:\")\n",
    "print_frequency_table(gplay_category_freq, key_title=\"Category\", top=5, show_percent=True)\n",
    "\n",
    "print(\"Top 10 Google Play genres:\")\n",
    "print_frequency_table(gplay_genre_freq, key_title=\"Genre\", top=10, show_percent=True)"
   ]
  },
  {
   "cell_type": "markdown",
   "id": "fcf8ca17",
   "metadata": {},
   "source": [
    "Based on this information, we can identify some significant trends. First, games and entertainment make up the majority of Apple applications with just over 66% of all free English apps being in these two genres. Second, the free English app categories on Android are more diverse, with only 30% being games (the Family category is composed mostly of games with a young audience) and about 17% being tools, business, and lifestyle. Looking at the Google Play genre information, 20% fall under tools, education, and business, indicating a balance between productivity and entertainment, as opposed to the dominance of games and entertainment on the Apple store."
   ]
  },
  {
   "cell_type": "markdown",
   "id": "6686cfb7",
   "metadata": {},
   "source": [
    "### Identifying app genres with the most users\n",
    "\n",
    "We have identified which types of app the datasets are composed of. Now, we would like to know which genres are most popular. We can use the `Installs` column in the Google Play dataset, and the total number of ratings, `rating_count_tot` in the Apple dataset."
   ]
  },
  {
   "cell_type": "code",
   "execution_count": 16,
   "id": "a3904383",
   "metadata": {},
   "outputs": [],
   "source": [
    "import string\n",
    "from typing import List, Dict, Tuple\n",
    "def frequency_table_keyed_total(dataset: List[List], key_col: int, data_col: int,\n",
    "                                sep: str = None) -> Dict[str, Tuple[int, int, int]]:\n",
    "    \"\"\"Given a dataset, add together entries in data_col, indexed by key_col.\"\"\"\n",
    "    total_counts_by_key = dict()\n",
    "    for row in dataset:\n",
    "        keys = str(row[key_col]).split(sep)\n",
    "        data_str = str(row[data_col])\n",
    "        data = int(''.join(c for c in data_str if c in string.digits ))\n",
    "\n",
    "        for key in keys:\n",
    "            # Add data and increment count\n",
    "            if key not in total_counts_by_key:\n",
    "                total_counts_by_key[key] = (data, 1)\n",
    "            else:\n",
    "                prev = total_counts_by_key[key]\n",
    "                total_counts_by_key[key] = (\n",
    "                    prev[0] + data,\n",
    "                    prev[1] + 1\n",
    "                )\n",
    "\n",
    "    # Add average\n",
    "    total_counts_by_key = { k: (v[0], v[1], round(v[0] / v[1])) for k, v in total_counts_by_key.items() }\n",
    "\n",
    "    return dict(sorted(total_counts_by_key.items(), key=lambda x: x[1][1], reverse=True))\n",
    "\n",
    "\n",
    "from typing import Dict, Tuple\n",
    "def print_frequency_table_keyed_total(table: Dict[str, Tuple[int, int, int]], key_title: str,\n",
    "                                      top: bool = None, sort_by_average: bool = False):\n",
    "    key_pad = max(len(key_title), max(len(x) for x in table.keys())) + 1\n",
    "    total_pad = max(len(\"Total\"), max(len(str(x[0])) for x in table.values())) + 1\n",
    "\n",
    "    if top is None:\n",
    "        top = len(table)\n",
    "\n",
    "    if sort_by_average:\n",
    "        table = dict(sorted(table.items(), key=lambda x: x[1][2], reverse=True))\n",
    "\n",
    "    shown = 0\n",
    "    print(f\"{key_title:<{key_pad}}| {'Total':<{total_pad}}| Average\")\n",
    "    print(f\"{'-'*key_pad}|{'-'*(total_pad+1)}|{'-'*9}\")\n",
    "    for key, val in table.items():\n",
    "        if shown >= top:\n",
    "            break\n",
    "        else:\n",
    "            shown += 1\n",
    "\n",
    "        total, count, avg = val\n",
    "        print(f\"{key:<{key_pad}}| {total:<{total_pad}}| {avg}\")\n",
    "    print()"
   ]
  },
  {
   "cell_type": "code",
   "execution_count": 17,
   "id": "a70bba35",
   "metadata": {},
   "outputs": [
    {
     "name": "stdout",
     "output_type": "stream",
     "text": [
      "Apple genres with highest average ratings:\n",
      "Genre         | Total    | Average\n",
      "--------------|----------|---------\n",
      "Navigation    | 516542   | 86090\n",
      "Reference     | 1348958  | 74942\n",
      "Social        | 7584125  | 71548\n",
      "Networking    | 7584125  | 71548\n",
      "Music         | 3783551  | 57327\n",
      "Weather       | 1463837  | 52280\n",
      "Book          | 556619   | 39758\n",
      "Food          | 866682   | 33334\n",
      "Drink         | 866682   | 33334\n",
      "Finance       | 1132846  | 31468\n",
      "\n",
      "Google play categories with highest average installs:\n",
      "Category            | Total       | Average\n",
      "--------------------|-------------|---------\n",
      "COMMUNICATION       | 11036906201 | 38456119\n",
      "VIDEO_PLAYERS       | 3931731720  | 24727872\n",
      "SOCIAL              | 5487861902  | 23253652\n",
      "PHOTOGRAPHY         | 4656268815  | 17840110\n",
      "PRODUCTIVITY        | 5791629314  | 16787331\n",
      "GAME                | 13436869450 | 15588016\n",
      "TRAVEL_AND_LOCAL    | 2894704086  | 13984078\n",
      "ENTERTAINMENT       | 989460000   | 11640706\n",
      "TOOLS               | 8101043474  | 10801391\n",
      "NEWS_AND_MAGAZINES  | 2368196260  | 9549178\n",
      "\n",
      "Google play genres with highest average installs:\n",
      "Genre                   | Total       | Average\n",
      "------------------------|-------------|---------\n",
      "Communication           | 11037406201 | 38324327\n",
      "Video Players & Editors | 3936731720  | 24604573\n",
      "Social                  | 5487861902  | 23253652\n",
      "Arcade                  | 3789791941  | 21532909\n",
      "Photography             | 4656268815  | 17840110\n",
      "Productivity            | 5791629314  | 16787331\n",
      "Casual                  | 3415009570  | 16261950\n",
      "Racing                  | 1533386820  | 14744104\n",
      "Travel & Local          | 2894704086  | 13984078\n",
      "Action                  | 3518986940  | 12390799\n",
      "\n"
     ]
    }
   ],
   "source": [
    "apple_total_ratings_by_genre = frequency_table_keyed_total(apple, 11, 5)\n",
    "\n",
    "print(\"Apple genres with highest average ratings:\")\n",
    "print_frequency_table_keyed_total(apple_total_ratings_by_genre, key_title=\"Genre\", top=10, sort_by_average=True)\n",
    "\n",
    "gplay_total_installs_by_genre = frequency_table_keyed_total(gplay, 9, 5, sep=';')\n",
    "gplay_total_installs_by_category = frequency_table_keyed_total(gplay, 1, 5)\n",
    "\n",
    "print(\"Google play categories with highest average installs:\")\n",
    "print_frequency_table_keyed_total(gplay_total_installs_by_category, key_title=\"Category\", top=10, sort_by_average=True)\n",
    "print(\"Google play genres with highest average installs:\")\n",
    "print_frequency_table_keyed_total(gplay_total_installs_by_genre, key_title=\"Genre\", top=10, sort_by_average=True)"
   ]
  },
  {
   "cell_type": "markdown",
   "id": "537f6b43",
   "metadata": {},
   "source": [
    "Based on these average, there is no clear winner. Navigation, communication, and social media are top genres, but are skewed by apps like Google Maps and Instagram - it would be difficult to find an in to these markets. Reference is primarily composed of existing books and guides. Creation of such an app would be relatively simple, and could gain a large number of users by its utility."
   ]
  },
  {
   "cell_type": "markdown",
   "id": "638b2f00",
   "metadata": {},
   "source": [
    "## Conclusions\n",
    "\n",
    "The analysis of free apps indicates that while games are very popular, they do not have as many users on average. Social media apps are popular but subject to the network effect, making it very difficult to break into this market. A free ad-driven reference app appears to be a strong candidate for profitability in both the iOS and Android free English app markets. A potential app profile could be a reference app that generates revenue via both ads and features that give it utility beyond the source material."
   ]
  }
 ],
 "metadata": {
  "kernelspec": {
   "display_name": "Python 3 (ipykernel)",
   "language": "python",
   "name": "python3"
  },
  "language_info": {
   "codemirror_mode": {
    "name": "ipython",
    "version": 3
   },
   "file_extension": ".py",
   "mimetype": "text/x-python",
   "name": "python",
   "nbconvert_exporter": "python",
   "pygments_lexer": "ipython3",
   "version": "3.8.10"
  }
 },
 "nbformat": 4,
 "nbformat_minor": 5
}
